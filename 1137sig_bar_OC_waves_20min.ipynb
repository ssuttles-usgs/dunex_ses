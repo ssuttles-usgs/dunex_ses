{
 "cells": [
  {
   "cell_type": "code",
   "execution_count": 1,
   "metadata": {},
   "outputs": [],
   "source": [
    "import xarray as xr\n",
    "import matplotlib.pyplot as plt\n",
    "import pandas as pd\n",
    "import matplotlib.dates\n",
    "# %%"
   ]
  },
  {
   "cell_type": "code",
   "execution_count": 2,
   "metadata": {},
   "outputs": [],
   "source": [
    "fldr = 'E:\\\\data\\\\dunex\\\\Dunex_Sig_OC\\\\1137sig_bar\\\\Exported Data\\\\S102410A008_outersurf\\\\'"
   ]
  },
  {
   "cell_type": "code",
   "execution_count": 3,
   "metadata": {},
   "outputs": [],
   "source": [
    "fn = 'Burst.VTC.WAVES_20min.nc'"
   ]
  },
  {
   "cell_type": "code",
   "execution_count": 4,
   "metadata": {},
   "outputs": [],
   "source": [
    "fin=fldr+fn"
   ]
  },
  {
   "cell_type": "code",
   "execution_count": 5,
   "metadata": {},
   "outputs": [
    {
     "data": {
      "text/plain": [
       "'E:\\\\data\\\\dunex\\\\Dunex_Sig_OC\\\\1137sig_bar\\\\Exported Data\\\\S102410A008_outersurf\\\\Burst.VTC.WAVES_20min.nc'"
      ]
     },
     "execution_count": 5,
     "metadata": {},
     "output_type": "execute_result"
    }
   ],
   "source": [
    "fin"
   ]
  },
  {
   "cell_type": "code",
   "execution_count": 6,
   "metadata": {
    "scrolled": false
   },
   "outputs": [
    {
     "ename": "FileNotFoundError",
     "evalue": "[Errno 2] No such file or directory: b'E:\\\\data\\\\dunex\\\\Dunex_Sig_OC\\\\1137sig_bar\\\\Exported Data\\\\S102410A008_outersurf\\\\Burst.VTC.WAVES_20min.nc'",
     "output_type": "error",
     "traceback": [
      "\u001b[1;31m---------------------------------------------------------------------------\u001b[0m",
      "\u001b[1;31mKeyError\u001b[0m                                  Traceback (most recent call last)",
      "File \u001b[1;32m~\\.conda\\envs\\stglib\\lib\\site-packages\\xarray\\backends\\file_manager.py:199\u001b[0m, in \u001b[0;36mCachingFileManager._acquire_with_cache_info\u001b[1;34m(self, needs_lock)\u001b[0m\n\u001b[0;32m    198\u001b[0m \u001b[38;5;28;01mtry\u001b[39;00m:\n\u001b[1;32m--> 199\u001b[0m     file \u001b[38;5;241m=\u001b[39m \u001b[38;5;28;43mself\u001b[39;49m\u001b[38;5;241;43m.\u001b[39;49m\u001b[43m_cache\u001b[49m\u001b[43m[\u001b[49m\u001b[38;5;28;43mself\u001b[39;49m\u001b[38;5;241;43m.\u001b[39;49m\u001b[43m_key\u001b[49m\u001b[43m]\u001b[49m\n\u001b[0;32m    200\u001b[0m \u001b[38;5;28;01mexcept\u001b[39;00m \u001b[38;5;167;01mKeyError\u001b[39;00m:\n",
      "File \u001b[1;32m~\\.conda\\envs\\stglib\\lib\\site-packages\\xarray\\backends\\lru_cache.py:53\u001b[0m, in \u001b[0;36mLRUCache.__getitem__\u001b[1;34m(self, key)\u001b[0m\n\u001b[0;32m     52\u001b[0m \u001b[38;5;28;01mwith\u001b[39;00m \u001b[38;5;28mself\u001b[39m\u001b[38;5;241m.\u001b[39m_lock:\n\u001b[1;32m---> 53\u001b[0m     value \u001b[38;5;241m=\u001b[39m \u001b[38;5;28;43mself\u001b[39;49m\u001b[38;5;241;43m.\u001b[39;49m\u001b[43m_cache\u001b[49m\u001b[43m[\u001b[49m\u001b[43mkey\u001b[49m\u001b[43m]\u001b[49m\n\u001b[0;32m     54\u001b[0m     \u001b[38;5;28mself\u001b[39m\u001b[38;5;241m.\u001b[39m_cache\u001b[38;5;241m.\u001b[39mmove_to_end(key)\n",
      "\u001b[1;31mKeyError\u001b[0m: [<class 'netCDF4._netCDF4.Dataset'>, ('E:\\\\data\\\\dunex\\\\Dunex_Sig_OC\\\\1137sig_bar\\\\Exported Data\\\\S102410A008_outersurf\\\\Burst.VTC.WAVES_20min.nc',), 'r', (('clobber', True), ('diskless', False), ('format', 'NETCDF4'), ('persist', False))]",
      "\nDuring handling of the above exception, another exception occurred:\n",
      "\u001b[1;31mFileNotFoundError\u001b[0m                         Traceback (most recent call last)",
      "Input \u001b[1;32mIn [6]\u001b[0m, in \u001b[0;36m<module>\u001b[1;34m\u001b[0m\n\u001b[1;32m----> 1\u001b[0m WVS \u001b[38;5;241m=\u001b[39m \u001b[43mxr\u001b[49m\u001b[38;5;241;43m.\u001b[39;49m\u001b[43mopen_dataset\u001b[49m\u001b[43m(\u001b[49m\u001b[43mfin\u001b[49m\u001b[43m,\u001b[49m\u001b[43mgroup\u001b[49m\u001b[43m \u001b[49m\u001b[38;5;241;43m=\u001b[39;49m\u001b[43m \u001b[49m\u001b[38;5;124;43m\"\u001b[39;49m\u001b[38;5;124;43m/Data/Waves\u001b[39;49m\u001b[38;5;124;43m\"\u001b[39;49m\u001b[43m,\u001b[49m\u001b[43mengine\u001b[49m\u001b[43m \u001b[49m\u001b[38;5;241;43m=\u001b[39;49m\u001b[43m \u001b[49m\u001b[38;5;124;43m\"\u001b[39;49m\u001b[38;5;124;43mnetcdf4\u001b[39;49m\u001b[38;5;124;43m\"\u001b[39;49m\u001b[43m)\u001b[49m\n",
      "File \u001b[1;32m~\\.conda\\envs\\stglib\\lib\\site-packages\\xarray\\backends\\api.py:495\u001b[0m, in \u001b[0;36mopen_dataset\u001b[1;34m(filename_or_obj, engine, chunks, cache, decode_cf, mask_and_scale, decode_times, decode_timedelta, use_cftime, concat_characters, decode_coords, drop_variables, backend_kwargs, *args, **kwargs)\u001b[0m\n\u001b[0;32m    483\u001b[0m decoders \u001b[38;5;241m=\u001b[39m _resolve_decoders_kwargs(\n\u001b[0;32m    484\u001b[0m     decode_cf,\n\u001b[0;32m    485\u001b[0m     open_backend_dataset_parameters\u001b[38;5;241m=\u001b[39mbackend\u001b[38;5;241m.\u001b[39mopen_dataset_parameters,\n\u001b[1;32m   (...)\u001b[0m\n\u001b[0;32m    491\u001b[0m     decode_coords\u001b[38;5;241m=\u001b[39mdecode_coords,\n\u001b[0;32m    492\u001b[0m )\n\u001b[0;32m    494\u001b[0m overwrite_encoded_chunks \u001b[38;5;241m=\u001b[39m kwargs\u001b[38;5;241m.\u001b[39mpop(\u001b[38;5;124m\"\u001b[39m\u001b[38;5;124moverwrite_encoded_chunks\u001b[39m\u001b[38;5;124m\"\u001b[39m, \u001b[38;5;28;01mNone\u001b[39;00m)\n\u001b[1;32m--> 495\u001b[0m backend_ds \u001b[38;5;241m=\u001b[39m \u001b[43mbackend\u001b[49m\u001b[38;5;241;43m.\u001b[39;49m\u001b[43mopen_dataset\u001b[49m\u001b[43m(\u001b[49m\n\u001b[0;32m    496\u001b[0m \u001b[43m    \u001b[49m\u001b[43mfilename_or_obj\u001b[49m\u001b[43m,\u001b[49m\n\u001b[0;32m    497\u001b[0m \u001b[43m    \u001b[49m\u001b[43mdrop_variables\u001b[49m\u001b[38;5;241;43m=\u001b[39;49m\u001b[43mdrop_variables\u001b[49m\u001b[43m,\u001b[49m\n\u001b[0;32m    498\u001b[0m \u001b[43m    \u001b[49m\u001b[38;5;241;43m*\u001b[39;49m\u001b[38;5;241;43m*\u001b[39;49m\u001b[43mdecoders\u001b[49m\u001b[43m,\u001b[49m\n\u001b[0;32m    499\u001b[0m \u001b[43m    \u001b[49m\u001b[38;5;241;43m*\u001b[39;49m\u001b[38;5;241;43m*\u001b[39;49m\u001b[43mkwargs\u001b[49m\u001b[43m,\u001b[49m\n\u001b[0;32m    500\u001b[0m \u001b[43m\u001b[49m\u001b[43m)\u001b[49m\n\u001b[0;32m    501\u001b[0m ds \u001b[38;5;241m=\u001b[39m _dataset_from_backend_dataset(\n\u001b[0;32m    502\u001b[0m     backend_ds,\n\u001b[0;32m    503\u001b[0m     filename_or_obj,\n\u001b[1;32m   (...)\u001b[0m\n\u001b[0;32m    510\u001b[0m     \u001b[38;5;241m*\u001b[39m\u001b[38;5;241m*\u001b[39mkwargs,\n\u001b[0;32m    511\u001b[0m )\n\u001b[0;32m    512\u001b[0m \u001b[38;5;28;01mreturn\u001b[39;00m ds\n",
      "File \u001b[1;32m~\\.conda\\envs\\stglib\\lib\\site-packages\\xarray\\backends\\netCDF4_.py:550\u001b[0m, in \u001b[0;36mNetCDF4BackendEntrypoint.open_dataset\u001b[1;34m(self, filename_or_obj, mask_and_scale, decode_times, concat_characters, decode_coords, drop_variables, use_cftime, decode_timedelta, group, mode, format, clobber, diskless, persist, lock, autoclose)\u001b[0m\n\u001b[0;32m    529\u001b[0m \u001b[38;5;28;01mdef\u001b[39;00m \u001b[38;5;21mopen_dataset\u001b[39m(\n\u001b[0;32m    530\u001b[0m     \u001b[38;5;28mself\u001b[39m,\n\u001b[0;32m    531\u001b[0m     filename_or_obj,\n\u001b[1;32m   (...)\u001b[0m\n\u001b[0;32m    546\u001b[0m     autoclose\u001b[38;5;241m=\u001b[39m\u001b[38;5;28;01mFalse\u001b[39;00m,\n\u001b[0;32m    547\u001b[0m ):\n\u001b[0;32m    549\u001b[0m     filename_or_obj \u001b[38;5;241m=\u001b[39m _normalize_path(filename_or_obj)\n\u001b[1;32m--> 550\u001b[0m     store \u001b[38;5;241m=\u001b[39m \u001b[43mNetCDF4DataStore\u001b[49m\u001b[38;5;241;43m.\u001b[39;49m\u001b[43mopen\u001b[49m\u001b[43m(\u001b[49m\n\u001b[0;32m    551\u001b[0m \u001b[43m        \u001b[49m\u001b[43mfilename_or_obj\u001b[49m\u001b[43m,\u001b[49m\n\u001b[0;32m    552\u001b[0m \u001b[43m        \u001b[49m\u001b[43mmode\u001b[49m\u001b[38;5;241;43m=\u001b[39;49m\u001b[43mmode\u001b[49m\u001b[43m,\u001b[49m\n\u001b[0;32m    553\u001b[0m \u001b[43m        \u001b[49m\u001b[38;5;28;43mformat\u001b[39;49m\u001b[38;5;241;43m=\u001b[39;49m\u001b[38;5;28;43mformat\u001b[39;49m\u001b[43m,\u001b[49m\n\u001b[0;32m    554\u001b[0m \u001b[43m        \u001b[49m\u001b[43mgroup\u001b[49m\u001b[38;5;241;43m=\u001b[39;49m\u001b[43mgroup\u001b[49m\u001b[43m,\u001b[49m\n\u001b[0;32m    555\u001b[0m \u001b[43m        \u001b[49m\u001b[43mclobber\u001b[49m\u001b[38;5;241;43m=\u001b[39;49m\u001b[43mclobber\u001b[49m\u001b[43m,\u001b[49m\n\u001b[0;32m    556\u001b[0m \u001b[43m        \u001b[49m\u001b[43mdiskless\u001b[49m\u001b[38;5;241;43m=\u001b[39;49m\u001b[43mdiskless\u001b[49m\u001b[43m,\u001b[49m\n\u001b[0;32m    557\u001b[0m \u001b[43m        \u001b[49m\u001b[43mpersist\u001b[49m\u001b[38;5;241;43m=\u001b[39;49m\u001b[43mpersist\u001b[49m\u001b[43m,\u001b[49m\n\u001b[0;32m    558\u001b[0m \u001b[43m        \u001b[49m\u001b[43mlock\u001b[49m\u001b[38;5;241;43m=\u001b[39;49m\u001b[43mlock\u001b[49m\u001b[43m,\u001b[49m\n\u001b[0;32m    559\u001b[0m \u001b[43m        \u001b[49m\u001b[43mautoclose\u001b[49m\u001b[38;5;241;43m=\u001b[39;49m\u001b[43mautoclose\u001b[49m\u001b[43m,\u001b[49m\n\u001b[0;32m    560\u001b[0m \u001b[43m    \u001b[49m\u001b[43m)\u001b[49m\n\u001b[0;32m    562\u001b[0m     store_entrypoint \u001b[38;5;241m=\u001b[39m StoreBackendEntrypoint()\n\u001b[0;32m    563\u001b[0m     \u001b[38;5;28;01mwith\u001b[39;00m close_on_error(store):\n",
      "File \u001b[1;32m~\\.conda\\envs\\stglib\\lib\\site-packages\\xarray\\backends\\netCDF4_.py:379\u001b[0m, in \u001b[0;36mNetCDF4DataStore.open\u001b[1;34m(cls, filename, mode, format, group, clobber, diskless, persist, lock, lock_maker, autoclose)\u001b[0m\n\u001b[0;32m    373\u001b[0m kwargs \u001b[38;5;241m=\u001b[39m \u001b[38;5;28mdict\u001b[39m(\n\u001b[0;32m    374\u001b[0m     clobber\u001b[38;5;241m=\u001b[39mclobber, diskless\u001b[38;5;241m=\u001b[39mdiskless, persist\u001b[38;5;241m=\u001b[39mpersist, \u001b[38;5;28mformat\u001b[39m\u001b[38;5;241m=\u001b[39m\u001b[38;5;28mformat\u001b[39m\n\u001b[0;32m    375\u001b[0m )\n\u001b[0;32m    376\u001b[0m manager \u001b[38;5;241m=\u001b[39m CachingFileManager(\n\u001b[0;32m    377\u001b[0m     netCDF4\u001b[38;5;241m.\u001b[39mDataset, filename, mode\u001b[38;5;241m=\u001b[39mmode, kwargs\u001b[38;5;241m=\u001b[39mkwargs\n\u001b[0;32m    378\u001b[0m )\n\u001b[1;32m--> 379\u001b[0m \u001b[38;5;28;01mreturn\u001b[39;00m \u001b[38;5;28;43mcls\u001b[39;49m\u001b[43m(\u001b[49m\u001b[43mmanager\u001b[49m\u001b[43m,\u001b[49m\u001b[43m \u001b[49m\u001b[43mgroup\u001b[49m\u001b[38;5;241;43m=\u001b[39;49m\u001b[43mgroup\u001b[49m\u001b[43m,\u001b[49m\u001b[43m \u001b[49m\u001b[43mmode\u001b[49m\u001b[38;5;241;43m=\u001b[39;49m\u001b[43mmode\u001b[49m\u001b[43m,\u001b[49m\u001b[43m \u001b[49m\u001b[43mlock\u001b[49m\u001b[38;5;241;43m=\u001b[39;49m\u001b[43mlock\u001b[49m\u001b[43m,\u001b[49m\u001b[43m \u001b[49m\u001b[43mautoclose\u001b[49m\u001b[38;5;241;43m=\u001b[39;49m\u001b[43mautoclose\u001b[49m\u001b[43m)\u001b[49m\n",
      "File \u001b[1;32m~\\.conda\\envs\\stglib\\lib\\site-packages\\xarray\\backends\\netCDF4_.py:327\u001b[0m, in \u001b[0;36mNetCDF4DataStore.__init__\u001b[1;34m(self, manager, group, mode, lock, autoclose)\u001b[0m\n\u001b[0;32m    325\u001b[0m \u001b[38;5;28mself\u001b[39m\u001b[38;5;241m.\u001b[39m_group \u001b[38;5;241m=\u001b[39m group\n\u001b[0;32m    326\u001b[0m \u001b[38;5;28mself\u001b[39m\u001b[38;5;241m.\u001b[39m_mode \u001b[38;5;241m=\u001b[39m mode\n\u001b[1;32m--> 327\u001b[0m \u001b[38;5;28mself\u001b[39m\u001b[38;5;241m.\u001b[39mformat \u001b[38;5;241m=\u001b[39m \u001b[38;5;28;43mself\u001b[39;49m\u001b[38;5;241;43m.\u001b[39;49m\u001b[43mds\u001b[49m\u001b[38;5;241m.\u001b[39mdata_model\n\u001b[0;32m    328\u001b[0m \u001b[38;5;28mself\u001b[39m\u001b[38;5;241m.\u001b[39m_filename \u001b[38;5;241m=\u001b[39m \u001b[38;5;28mself\u001b[39m\u001b[38;5;241m.\u001b[39mds\u001b[38;5;241m.\u001b[39mfilepath()\n\u001b[0;32m    329\u001b[0m \u001b[38;5;28mself\u001b[39m\u001b[38;5;241m.\u001b[39mis_remote \u001b[38;5;241m=\u001b[39m is_remote_uri(\u001b[38;5;28mself\u001b[39m\u001b[38;5;241m.\u001b[39m_filename)\n",
      "File \u001b[1;32m~\\.conda\\envs\\stglib\\lib\\site-packages\\xarray\\backends\\netCDF4_.py:388\u001b[0m, in \u001b[0;36mNetCDF4DataStore.ds\u001b[1;34m(self)\u001b[0m\n\u001b[0;32m    386\u001b[0m \u001b[38;5;129m@property\u001b[39m\n\u001b[0;32m    387\u001b[0m \u001b[38;5;28;01mdef\u001b[39;00m \u001b[38;5;21mds\u001b[39m(\u001b[38;5;28mself\u001b[39m):\n\u001b[1;32m--> 388\u001b[0m     \u001b[38;5;28;01mreturn\u001b[39;00m \u001b[38;5;28;43mself\u001b[39;49m\u001b[38;5;241;43m.\u001b[39;49m\u001b[43m_acquire\u001b[49m\u001b[43m(\u001b[49m\u001b[43m)\u001b[49m\n",
      "File \u001b[1;32m~\\.conda\\envs\\stglib\\lib\\site-packages\\xarray\\backends\\netCDF4_.py:382\u001b[0m, in \u001b[0;36mNetCDF4DataStore._acquire\u001b[1;34m(self, needs_lock)\u001b[0m\n\u001b[0;32m    381\u001b[0m \u001b[38;5;28;01mdef\u001b[39;00m \u001b[38;5;21m_acquire\u001b[39m(\u001b[38;5;28mself\u001b[39m, needs_lock\u001b[38;5;241m=\u001b[39m\u001b[38;5;28;01mTrue\u001b[39;00m):\n\u001b[1;32m--> 382\u001b[0m     \u001b[38;5;28;01mwith\u001b[39;00m \u001b[38;5;28mself\u001b[39m\u001b[38;5;241m.\u001b[39m_manager\u001b[38;5;241m.\u001b[39macquire_context(needs_lock) \u001b[38;5;28;01mas\u001b[39;00m root:\n\u001b[0;32m    383\u001b[0m         ds \u001b[38;5;241m=\u001b[39m _nc4_require_group(root, \u001b[38;5;28mself\u001b[39m\u001b[38;5;241m.\u001b[39m_group, \u001b[38;5;28mself\u001b[39m\u001b[38;5;241m.\u001b[39m_mode)\n\u001b[0;32m    384\u001b[0m     \u001b[38;5;28;01mreturn\u001b[39;00m ds\n",
      "File \u001b[1;32m~\\.conda\\envs\\stglib\\lib\\contextlib.py:113\u001b[0m, in \u001b[0;36m_GeneratorContextManager.__enter__\u001b[1;34m(self)\u001b[0m\n\u001b[0;32m    111\u001b[0m \u001b[38;5;28;01mdel\u001b[39;00m \u001b[38;5;28mself\u001b[39m\u001b[38;5;241m.\u001b[39margs, \u001b[38;5;28mself\u001b[39m\u001b[38;5;241m.\u001b[39mkwds, \u001b[38;5;28mself\u001b[39m\u001b[38;5;241m.\u001b[39mfunc\n\u001b[0;32m    112\u001b[0m \u001b[38;5;28;01mtry\u001b[39;00m:\n\u001b[1;32m--> 113\u001b[0m     \u001b[38;5;28;01mreturn\u001b[39;00m \u001b[38;5;28;43mnext\u001b[39;49m\u001b[43m(\u001b[49m\u001b[38;5;28;43mself\u001b[39;49m\u001b[38;5;241;43m.\u001b[39;49m\u001b[43mgen\u001b[49m\u001b[43m)\u001b[49m\n\u001b[0;32m    114\u001b[0m \u001b[38;5;28;01mexcept\u001b[39;00m \u001b[38;5;167;01mStopIteration\u001b[39;00m:\n\u001b[0;32m    115\u001b[0m     \u001b[38;5;28;01mraise\u001b[39;00m \u001b[38;5;167;01mRuntimeError\u001b[39;00m(\u001b[38;5;124m\"\u001b[39m\u001b[38;5;124mgenerator didn\u001b[39m\u001b[38;5;124m'\u001b[39m\u001b[38;5;124mt yield\u001b[39m\u001b[38;5;124m\"\u001b[39m) \u001b[38;5;28;01mfrom\u001b[39;00m \u001b[38;5;28mNone\u001b[39m\n",
      "File \u001b[1;32m~\\.conda\\envs\\stglib\\lib\\site-packages\\xarray\\backends\\file_manager.py:187\u001b[0m, in \u001b[0;36mCachingFileManager.acquire_context\u001b[1;34m(self, needs_lock)\u001b[0m\n\u001b[0;32m    184\u001b[0m \u001b[38;5;129m@contextlib\u001b[39m\u001b[38;5;241m.\u001b[39mcontextmanager\n\u001b[0;32m    185\u001b[0m \u001b[38;5;28;01mdef\u001b[39;00m \u001b[38;5;21macquire_context\u001b[39m(\u001b[38;5;28mself\u001b[39m, needs_lock\u001b[38;5;241m=\u001b[39m\u001b[38;5;28;01mTrue\u001b[39;00m):\n\u001b[0;32m    186\u001b[0m     \u001b[38;5;124;03m\"\"\"Context manager for acquiring a file.\"\"\"\u001b[39;00m\n\u001b[1;32m--> 187\u001b[0m     file, cached \u001b[38;5;241m=\u001b[39m \u001b[38;5;28;43mself\u001b[39;49m\u001b[38;5;241;43m.\u001b[39;49m\u001b[43m_acquire_with_cache_info\u001b[49m\u001b[43m(\u001b[49m\u001b[43mneeds_lock\u001b[49m\u001b[43m)\u001b[49m\n\u001b[0;32m    188\u001b[0m     \u001b[38;5;28;01mtry\u001b[39;00m:\n\u001b[0;32m    189\u001b[0m         \u001b[38;5;28;01myield\u001b[39;00m file\n",
      "File \u001b[1;32m~\\.conda\\envs\\stglib\\lib\\site-packages\\xarray\\backends\\file_manager.py:205\u001b[0m, in \u001b[0;36mCachingFileManager._acquire_with_cache_info\u001b[1;34m(self, needs_lock)\u001b[0m\n\u001b[0;32m    203\u001b[0m     kwargs \u001b[38;5;241m=\u001b[39m kwargs\u001b[38;5;241m.\u001b[39mcopy()\n\u001b[0;32m    204\u001b[0m     kwargs[\u001b[38;5;124m\"\u001b[39m\u001b[38;5;124mmode\u001b[39m\u001b[38;5;124m\"\u001b[39m] \u001b[38;5;241m=\u001b[39m \u001b[38;5;28mself\u001b[39m\u001b[38;5;241m.\u001b[39m_mode\n\u001b[1;32m--> 205\u001b[0m file \u001b[38;5;241m=\u001b[39m \u001b[38;5;28;43mself\u001b[39;49m\u001b[38;5;241;43m.\u001b[39;49m\u001b[43m_opener\u001b[49m\u001b[43m(\u001b[49m\u001b[38;5;241;43m*\u001b[39;49m\u001b[38;5;28;43mself\u001b[39;49m\u001b[38;5;241;43m.\u001b[39;49m\u001b[43m_args\u001b[49m\u001b[43m,\u001b[49m\u001b[43m \u001b[49m\u001b[38;5;241;43m*\u001b[39;49m\u001b[38;5;241;43m*\u001b[39;49m\u001b[43mkwargs\u001b[49m\u001b[43m)\u001b[49m\n\u001b[0;32m    206\u001b[0m \u001b[38;5;28;01mif\u001b[39;00m \u001b[38;5;28mself\u001b[39m\u001b[38;5;241m.\u001b[39m_mode \u001b[38;5;241m==\u001b[39m \u001b[38;5;124m\"\u001b[39m\u001b[38;5;124mw\u001b[39m\u001b[38;5;124m\"\u001b[39m:\n\u001b[0;32m    207\u001b[0m     \u001b[38;5;66;03m# ensure file doesn't get overriden when opened again\u001b[39;00m\n\u001b[0;32m    208\u001b[0m     \u001b[38;5;28mself\u001b[39m\u001b[38;5;241m.\u001b[39m_mode \u001b[38;5;241m=\u001b[39m \u001b[38;5;124m\"\u001b[39m\u001b[38;5;124ma\u001b[39m\u001b[38;5;124m\"\u001b[39m\n",
      "File \u001b[1;32msrc\\netCDF4\\_netCDF4.pyx:2307\u001b[0m, in \u001b[0;36mnetCDF4._netCDF4.Dataset.__init__\u001b[1;34m()\u001b[0m\n",
      "File \u001b[1;32msrc\\netCDF4\\_netCDF4.pyx:1925\u001b[0m, in \u001b[0;36mnetCDF4._netCDF4._ensure_nc_success\u001b[1;34m()\u001b[0m\n",
      "\u001b[1;31mFileNotFoundError\u001b[0m: [Errno 2] No such file or directory: b'E:\\\\data\\\\dunex\\\\Dunex_Sig_OC\\\\1137sig_bar\\\\Exported Data\\\\S102410A008_outersurf\\\\Burst.VTC.WAVES_20min.nc'"
     ]
    }
   ],
   "source": [
    "WVS = xr.open_dataset(fin,group = \"/Data/Waves\",engine = \"netcdf4\")"
   ]
  },
  {
   "cell_type": "code",
   "execution_count": null,
   "metadata": {
    "scrolled": true
   },
   "outputs": [],
   "source": [
    "WVS"
   ]
  },
  {
   "cell_type": "code",
   "execution_count": null,
   "metadata": {
    "scrolled": true
   },
   "outputs": [],
   "source": [
    "WVS.time.attrs"
   ]
  },
  {
   "cell_type": "markdown",
   "metadata": {},
   "source": [
    "### Make Stack Plot of Wave stats for time period of good data"
   ]
  },
  {
   "cell_type": "code",
   "execution_count": null,
   "metadata": {},
   "outputs": [],
   "source": [
    "dtstart =\"2021-09-14 19:01\"\n",
    "dtend = \"2021-10-21 14:35\""
   ]
  },
  {
   "cell_type": "code",
   "execution_count": null,
   "metadata": {},
   "outputs": [],
   "source": [
    "# define some colors using palettes from ColorBrewer https://colorbrewer2.org/\n",
    "grays = ['#f7f7f7','#cccccc','#969696','#636363','#252525']\n",
    "blues = ['#eff3ff','#bdd7e7','#6baed6','#3182bd','#08519c']\n",
    "greens = ['#edf8e9','#bae4b3','#74c476','#31a354','#006d2c']\n",
    "windcol = ['#edf8fb','#b3cde3','#8c96c6','#8856a7','#810f7c']\n",
    "reds = ['#ffeda0','#feb24c','#f03b20']\n",
    "divrg = ['#d7191c','#fdae61','#ffffbf','#abdda4','#2b83ba']"
   ]
  },
  {
   "cell_type": "code",
   "execution_count": null,
   "metadata": {
    "scrolled": false
   },
   "outputs": [],
   "source": [
    "fig, (ax) = plt.subplots(4, 1, sharex=True, figsize=(16, 10))\n",
    "ax[0].plot(WVS.sel(time=slice(dtstart, dtend)).time,\n",
    "         WVS.sel(time=slice(dtstart, dtend)).Height_Hm0, color = divrg[0],label = 'Hm0')\n",
    "ax[0].plot(WVS.sel(time=slice(dtstart, dtend)).time,\n",
    "         WVS.sel(time=slice(dtstart, dtend)).Height_Hmax, color= divrg[1], label = 'Hmax')\n",
    "ax[0].plot(WVS.sel(time=slice(dtstart, dtend)).time,\n",
    "         WVS.sel(time=slice(dtstart, dtend)).Height_H10, color= divrg[4], label = 'H10')\n",
    "ax[0].set_ylabel('meters',fontsize=14)\n",
    "ax[0].text(.02,.85,'Wave Heights',fontsize=16,transform=ax[0].transAxes)\n",
    "ax[0].legend(loc = 'upper right')\n",
    "ax[0].set_xticklabels([])\n",
    "ax[0].set_title('DUNEX Pea Island: Wave stats from Signature ADCP at bar site in surf zone (1137sig)',fontsize = 18)\n",
    "\n",
    "ax[1].plot(WVS.sel(time=slice(dtstart, dtend)).time,\n",
    "         WVS.sel(time=slice(dtstart, dtend)).Period_Tp, color = blues[4], label = 'Tp')\n",
    "ax[1].plot(WVS.sel(time=slice(dtstart, dtend)).time,\n",
    "         WVS.sel(time=slice(dtstart, dtend)).Period_Tm02, color= blues[2], label = 'Tm')\n",
    "ax[1].set_ylabel('seconds',fontsize=14)\n",
    "ax[1].set_ylim((-1, 20))\n",
    "ax[1].text(.02,.85,'Wave Periods',fontsize=16,transform=ax[1].transAxes)\n",
    "ax[1].legend(loc = 'upper right')\n",
    "ax[1].set_xticklabels([])\n",
    "\n",
    "ax[2].plot(WVS.sel(time=slice(dtstart, dtend)).time,\n",
    "         WVS.sel(time=slice(dtstart, dtend)).Direction_DirTp, '.',color = divrg[1], label = 'DirTp')\n",
    "ax[2].plot(WVS.sel(time=slice(dtstart, dtend)).time,\n",
    "         WVS.sel(time=slice(dtstart, dtend)).Direction_SprTp, '.',  color= blues[2], label = 'DirSprd')\n",
    "ax[2].set_yticks([0.,90.,180.,270,360])\n",
    "ax[2].set_ylabel('direction ($^{\\circ}$T)',fontsize=14)\n",
    "ax[2].text(.02,.85,'Wave direction (from)',fontsize=16,transform=ax[2].transAxes)\n",
    "ax[2].legend()\n",
    "ax[2].set_xticklabels([])\n",
    "\n",
    "ax[3].plot(WVS.sel(time=slice(dtstart, dtend)).time,\n",
    "         WVS.sel(time=slice(dtstart, dtend)).Pressure,color = blues[3], label = 'Pres')\n",
    "ax[3].set_ylabel('decibars',fontsize=14)\n",
    "ax[3].text(.02,.85,'Pressure (uncorrected)',fontsize=16,transform=ax[3].transAxes)\n",
    "\n",
    "ax[3].xaxis.set_major_formatter(mdates.DateFormatter('%m/%d'))\n",
    "\n",
    "plt.savefig('1137bar_wavs_stats_tsstack.png')"
   ]
  },
  {
   "cell_type": "markdown",
   "metadata": {},
   "source": [
    "### Make Spectra plot at max(Hs)"
   ]
  },
  {
   "cell_type": "code",
   "execution_count": null,
   "metadata": {},
   "outputs": [],
   "source": [
    "da=WVS.sel(time=slice(dtstart, dtend)).time.astype('datetime64[s]') #extract time and convert to dataframe to make string"
   ]
  },
  {
   "cell_type": "code",
   "execution_count": null,
   "metadata": {},
   "outputs": [],
   "source": [
    "type(da)"
   ]
  },
  {
   "cell_type": "code",
   "execution_count": null,
   "metadata": {},
   "outputs": [],
   "source": [
    "dftime=da.to_dataframe()"
   ]
  },
  {
   "cell_type": "code",
   "execution_count": null,
   "metadata": {},
   "outputs": [],
   "source": [
    "str=dftime['time'].dt.strftime(\"%B %d, %Y, %r\") #panda series of datetime strings"
   ]
  },
  {
   "cell_type": "code",
   "execution_count": null,
   "metadata": {},
   "outputs": [],
   "source": [
    "type(str)"
   ]
  },
  {
   "cell_type": "code",
   "execution_count": null,
   "metadata": {},
   "outputs": [],
   "source": [
    "#import time\n",
    "#plot a spectral plot of wave energy v frequency\n",
    "fig = plt.subplots(1, 1, sharex=False, figsize=(10, 8))\n",
    "freq=WVS.EnergySpectra_Frequency\n",
    "E=WVS.sel(time=slice(dtstart, dtend)).EnergySpectra\n",
    "\n",
    "idx= WVS.sel(time=slice(dtstart, dtend)).Height_Hm0.argmax('time')\n",
    "#idx= 1853\n",
    "fwv=WVS.WaveSpectra_Frequency\n",
    "E_vel=WVS.sel(time=slice(dtstart, dtend)).WaveSpectra_Vel\n",
    "E_ast=WVS.sel(time=slice(dtstart, dtend)).WaveSpectra_AST\n",
    "E_pres=WVS.sel(time=slice(dtstart, dtend)).WaveSpectra_Pressure\n",
    "\n",
    "\n",
    "plt.plot(freq,E[:,idx], color = blues[4],linewidth = 4, label = 'Espec')\n",
    "plt.xscale('log')\n",
    "plt.yscale('log')\n",
    "plt.ylim(1e-4, 10)\n",
    "plt.ylabel('Energy, [m$^2$ $^.$ hz$^{-1}$]', fontsize = 14, fontweight = 'bold')\n",
    "plt.xlabel('frequency, [hz]', fontsize = 14, fontweight = 'bold')\n",
    "plt.title('Wave Spectra Plots @ max(Hs):  ' + str[int(idx)], fontsize = 16, fontweight = 'bold')\n",
    "\n",
    "plt.plot(fwv,E_vel.isel(time=idx),'--',color = greens[3],label = 'Vel_spec')\n",
    "plt.plot(fwv,E_ast.isel(time=idx),'--', color = reds[2],label = 'AST_spec')\n",
    "plt.plot(fwv,E_pres.isel(time=idx),'--',color = blues[2],label = 'Pres_spec')\n",
    "\n",
    "plt.yticks(fontsize = 12)\n",
    "plt.xticks(fontsize = 12)\n",
    "\n",
    "plt.legend()\n",
    "\n",
    "plt.savefig('1137bar_wavs_spec_maxHs.png')\n",
    "\n",
    "    #time.sleep(0.5)\n",
    "    #break"
   ]
  },
  {
   "cell_type": "code",
   "execution_count": null,
   "metadata": {},
   "outputs": [],
   "source": [
    "#import time\n",
    "#plot a spectral plot of wave energy v frequency\n",
    "fig = plt.subplots(1, 1, sharex=False, figsize=(10, 8))\n",
    "freq=WVS.EnergySpectra_Frequency\n",
    "E=WVS.sel(time=slice(dtstart, dtend)).EnergySpectra\n",
    "\n",
    "idx= WVS.sel(time=slice(dtstart, dtend)).Period_Tp.argmax('time')\n",
    "#idx= 1853\n",
    "fwv=WVS.WaveSpectra_Frequency\n",
    "E_vel=WVS.sel(time=slice(dtstart, dtend)).WaveSpectra_Vel\n",
    "E_ast=WVS.sel(time=slice(dtstart, dtend)).WaveSpectra_AST\n",
    "E_pres=WVS.sel(time=slice(dtstart, dtend)).WaveSpectra_Pressure\n",
    "\n",
    "\n",
    "plt.plot(freq,E[:,idx], color = blues[4],linewidth = 4, label = 'Espec')\n",
    "plt.xscale('log')\n",
    "plt.yscale('log')\n",
    "plt.ylim(1e-4, 10)\n",
    "plt.ylabel('Energy, [m$^2$ $^.$ hz$^{-1}$]', fontsize = 14, fontweight = 'bold')\n",
    "plt.xlabel('frequency, [hz]', fontsize = 14, fontweight = 'bold')\n",
    "plt.title('Wave Spectra Plots @ max(Tp):  ' + str[int(idx)], fontsize = 16, fontweight = 'bold')\n",
    "\n",
    "plt.plot(fwv,E_vel.isel(time=idx),'--',color = greens[3],label = 'Vel_spec')\n",
    "plt.plot(fwv,E_ast.isel(time=idx),'--', color = reds[2],label = 'AST_spec')\n",
    "plt.plot(fwv,E_pres.isel(time=idx),'--',color = blues[2],label = 'Pres_spec')\n",
    "\n",
    "plt.yticks(fontsize = 12)\n",
    "plt.xticks(fontsize = 12)\n",
    "\n",
    "plt.legend()\n",
    "\n",
    "plt.savefig('1137bar_wavs_spec_maxTp.png')\n"
   ]
  },
  {
   "cell_type": "markdown",
   "metadata": {},
   "source": [
    "### Plot Wave Spectra time-series as pcolor/image plot"
   ]
  },
  {
   "cell_type": "code",
   "execution_count": null,
   "metadata": {},
   "outputs": [],
   "source": [
    "import numpy as np\n",
    "import datetime\n",
    "import matplotlib.dates as mdates\n",
    "import matplotlib.ticker as ticker\n",
    "\n",
    "y=freq.values\n",
    "x=pd.to_datetime(dftime['time'])\n",
    "X,Y=np.meshgrid(x,y)"
   ]
  },
  {
   "cell_type": "code",
   "execution_count": null,
   "metadata": {
    "scrolled": false
   },
   "outputs": [],
   "source": [
    "fig, ax = plt.subplots(1, 1, sharex = False, figsize = (16,4))\n",
    "\n",
    "c = plt.pcolormesh(x, y, E, cmap='jet', shading='auto')\n",
    "plt.title('Wave Frequency Spectra Time-Series @ bar site',fontsize = 16, fontweight = 'bold')\n",
    "plt.xticks(rotation = 30)\n",
    "plt.xticks(fontsize = 12)\n",
    "plt.xticks(fontweight = 'bold')\n",
    "plt.xlabel('2021', fontsize = 12, fontweight = 'bold')\n",
    "plt.yticks(fontsize = 12)\n",
    "plt.yticks(fontweight = 'bold')\n",
    "plt.ylabel('frequency, [Hz]', fontsize = 12, fontweight = 'bold')\n",
    "ax.xaxis.set_major_formatter(mdates.DateFormatter('%m/%d'))\n",
    "fig.colorbar(c, ax=ax)\n",
    "\n",
    "plt.savefig('1137bar_wavs_fspec_pcolor.png')\n"
   ]
  },
  {
   "cell_type": "markdown",
   "metadata": {},
   "source": [
    "## Run-up calcs:"
   ]
  },
  {
   "cell_type": "markdown",
   "metadata": {},
   "source": [
    "from Lange et al eqn [9]:\n",
    "\n",
    "𝑅2%,𝐺 = 0.4 * 𝛽eff^0.45 ∫𝑆𝑆 𝐸^0.5 𝑓^−1.45 𝑑𝑓 + \n",
    "\n",
    "2 [3.72 * 𝛽eff^0.6 ∫𝑆𝑆 𝐸^0.95 𝑓^−0.25 𝑑𝑓 +0.76 * 𝛽f^2 * 𝛽eff^0.75 ∫𝑆𝑆 𝐸^0.4 𝑓^−3.1 𝑑𝑓]^0.5"
   ]
  },
  {
   "cell_type": "markdown",
   "metadata": {},
   "source": [
    "term1 = 0.4 * 𝛽eff^0.45 ∫𝑆𝑆 𝐸^0.5 𝑓^−1.45 𝑑𝑓\n",
    "\n",
    "term2 = 3.72 * 𝛽eff^0.6 ∫𝑆𝑆 𝐸^0.95 𝑓^−0.25 𝑑𝑓\n",
    "\n",
    "term3 = 0.76 * 𝛽f^2 * 𝛽eff^0.75 ∫𝑆𝑆 𝐸^0.4 𝑓^−3.1 𝑑𝑓\n",
    "\n",
    "where;\n",
    "\n",
    "R2%,G = term1 + 2[term2 + term3]^0.5\n"
   ]
  },
  {
   "cell_type": "code",
   "execution_count": null,
   "metadata": {},
   "outputs": [],
   "source": [
    "Ess=WVS.sel(time=slice(dtstart, dtend), EnergySpectra_Frequency=slice(0.0399,0.25)).EnergySpectra"
   ]
  },
  {
   "cell_type": "code",
   "execution_count": null,
   "metadata": {},
   "outputs": [],
   "source": [
    "Ess.shape"
   ]
  },
  {
   "cell_type": "code",
   "execution_count": null,
   "metadata": {},
   "outputs": [],
   "source": [
    "Hs=WVS.sel(time=slice(dtstart, dtend)).Height_Hm0"
   ]
  },
  {
   "cell_type": "code",
   "execution_count": null,
   "metadata": {},
   "outputs": [],
   "source": [
    "Tp=WVS.sel(time=slice(dtstart, dtend)).Period_Tp"
   ]
  },
  {
   "cell_type": "code",
   "execution_count": null,
   "metadata": {},
   "outputs": [],
   "source": [
    "time = dftime['time']"
   ]
  },
  {
   "cell_type": "code",
   "execution_count": null,
   "metadata": {},
   "outputs": [],
   "source": [
    "f=WVS.sel(EnergySpectra_Frequency = slice(0.0399,0.25)).EnergySpectra_Frequency"
   ]
  },
  {
   "cell_type": "code",
   "execution_count": null,
   "metadata": {},
   "outputs": [],
   "source": [
    "f"
   ]
  },
  {
   "cell_type": "code",
   "execution_count": null,
   "metadata": {},
   "outputs": [],
   "source": [
    "dff = 0.01\n",
    "beta_f = np.arange(0.1,0.01,-0.02)\n",
    "beta_eff = beta_f *  (1/ 5)"
   ]
  },
  {
   "cell_type": "code",
   "execution_count": null,
   "metadata": {},
   "outputs": [],
   "source": [
    "beta_f"
   ]
  },
  {
   "cell_type": "code",
   "execution_count": null,
   "metadata": {},
   "outputs": [],
   "source": [
    "beta_eff"
   ]
  },
  {
   "cell_type": "code",
   "execution_count": null,
   "metadata": {},
   "outputs": [],
   "source": [
    "R=np.empty(shape = [len(beta_f),len(time)])"
   ]
  },
  {
   "cell_type": "code",
   "execution_count": null,
   "metadata": {},
   "outputs": [],
   "source": [
    "for j in range(0,len(beta_f)):\n",
    "    R2G=[]\n",
    "        \n",
    "    for i in range(0,len(Hs)):\n",
    "\n",
    "            #term1 = 0.4 * 𝛽eff^0.45 ∫𝑆𝑆 𝐸^0.5 𝑓^−1.45 𝑑𝑓\n",
    "            aint = Ess[:,i]**0.5 * f**-1.45 * dff\n",
    "            term1 = 0.4 * beta_eff[j]**0.45 * aint.sum()\n",
    "            #term1.append(a)\n",
    "\n",
    "            #term2 = 3.72 * 𝛽eff^0.6 ∫𝑆𝑆 𝐸^0.95 𝑓^−0.25 𝑑𝑓\n",
    "            bint = Ess[:,i]**0.95 * f**-0.25 * dff\n",
    "            term2= 3.72 * beta_eff[j]**0.6 * bint.sum()\n",
    "            #term2.append(b)\n",
    "\n",
    "            #term3 = 0.76 * 𝛽f^2 * 𝛽eff^0.75 ∫𝑆𝑆 𝐸^0.4 𝑓^−3.1 𝑑𝑓\n",
    "            cint = Ess[:,i]**0.4 * f**-3.1 * dff\n",
    "            term3= 0.76 * beta_f[j]**2 * beta_eff[j]**0.75 * cint.sum()\n",
    "            #term3.append(c)\n",
    "\n",
    "            #R2%,G = term1 + 2[term2 + term3]^0.5\n",
    "            r = term1 + 2*(term2+term3)**0.5\n",
    "            R2G.append(r)\n",
    "            \n",
    "    R[j,:]=R2G"
   ]
  },
  {
   "cell_type": "code",
   "execution_count": null,
   "metadata": {},
   "outputs": [],
   "source": [
    "### Add Run-up calcs using Stockdon Eqn to compare:"
   ]
  },
  {
   "cell_type": "code",
   "execution_count": null,
   "metadata": {},
   "outputs": [],
   "source": [
    "import sys\n",
    "sys.path.append('c:/users/ssuttles/git/csherwood/DUNEX')\n",
    "import DUNEX_funcs"
   ]
  },
  {
   "cell_type": "code",
   "execution_count": null,
   "metadata": {},
   "outputs": [],
   "source": [
    "R2=np.empty(shape = [7,len(beta_f),len(time)])"
   ]
  },
  {
   "cell_type": "code",
   "execution_count": null,
   "metadata": {},
   "outputs": [],
   "source": [
    "for idx,val in enumerate(beta_f):\n",
    "     R2[:,idx,:]= DUNEX_funcs.calcR2(Hs,Tp,val)"
   ]
  },
  {
   "cell_type": "code",
   "execution_count": null,
   "metadata": {},
   "outputs": [],
   "source": [
    "R2.shape"
   ]
  },
  {
   "cell_type": "code",
   "execution_count": null,
   "metadata": {},
   "outputs": [],
   "source": [
    "dsR = xr.Dataset()\n",
    "dsR['time'] = xr.DataArray(dftime['time'], dims='time')\n",
    "dsR['frequency_ss']=xr.DataArray(f.values,dims='frequency_ss')\n",
    "dsR['energy_ss']=xr.DataArray(Ess.values,dims=('frequency_ss','time'))\n",
    "dsR['Hs']=xr.DataArray(Hs.values,dims = 'time')\n",
    "dsR['Tp']=xr.DataArray(Tp.values,dims = 'time')\n",
    "dsR['beta_f']=xr.DataArray(beta_f,dims='beta')\n",
    "dsR['beta_eff']=xr.DataArray(beta_eff,dims='beta')\n",
    "dsR['R2G'] = xr.DataArray(R, dims=('beta','time'))\n",
    "dsR['R2'] = xr.DataArray(R2[0,:,:], dims=('beta','time'))"
   ]
  },
  {
   "cell_type": "code",
   "execution_count": null,
   "metadata": {},
   "outputs": [],
   "source": [
    "dsR"
   ]
  },
  {
   "cell_type": "code",
   "execution_count": null,
   "metadata": {},
   "outputs": [],
   "source": [
    "lstr=[]\n",
    "for i in range(0,len(beta_f)):\n",
    "        str = [r\"$\\beta_{f}$ =  %4.2f\" % beta_f[i]]\n",
    "        lstr = lstr + str"
   ]
  },
  {
   "cell_type": "code",
   "execution_count": null,
   "metadata": {},
   "outputs": [],
   "source": [
    "fig, ax = plt.subplots(1, 1, sharex = False, figsize = (16,4))\n",
    "plt.plot(dsR.time,dsR.R2G[0,:], label = lstr[0])\n",
    "plt.plot(dsR.time,dsR.R2G[1,:], label = lstr[1])\n",
    "plt.plot(dsR.time,dsR.R2G[2,:], label = lstr[2])\n",
    "plt.plot(dsR.time,dsR.R2G[3,:], label = lstr[3])\n",
    "plt.plot(dsR.time,dsR.R2G[4,:], label = lstr[4])\n",
    "plt.title('Run-up Calculations using Lange et al Eqn 9 w/ Wave Spectral data from bar site',fontsize = 16, fontweight = 'bold')\n",
    "plt.xticks(rotation = 30)\n",
    "plt.xticks(fontsize = 12)\n",
    "plt.xticks(fontweight = 'bold')\n",
    "plt.xlabel('2021', fontsize = 12, fontweight = 'bold')\n",
    "plt.yticks(fontsize = 12)\n",
    "plt.yticks(fontweight = 'bold')\n",
    "plt.ylabel('meters', fontsize = 12, fontweight = 'bold')\n",
    "ax.xaxis.set_major_formatter(mdates.DateFormatter('%m/%d'))\n",
    "plt.legend(fontsize = 12)\n",
    "plt.savefig('PI_runup_calcs_Lange_eqn9_wavspec_bar_site.png')"
   ]
  },
  {
   "cell_type": "code",
   "execution_count": null,
   "metadata": {},
   "outputs": [],
   "source": [
    "fig, ax = plt.subplots(2, 1, sharex = True, figsize = (16,10))\n",
    "ax[0].plot(dsR.time,dsR.R2G[0,:], label = lstr[0])\n",
    "ax[0].plot(dsR.time,dsR.R2G[1,:], label = lstr[1])\n",
    "ax[0].plot(dsR.time,dsR.R2G[2,:], label = lstr[2])\n",
    "ax[0].plot(dsR.time,dsR.R2G[3,:], label = lstr[3])\n",
    "ax[0].plot(dsR.time,dsR.R2G[4,:], label = lstr[4])\n",
    "ax[0].set_title('Run-up Calculations using Lange et al Eqn 9 w/ Wave Spectral data from bar site',fontsize = 16, fontweight = 'bold')\n",
    "ytks=np.arange(0,2.5,0.2)\n",
    "ax[0].set_yticks(ytks)\n",
    "ax[0].set_yticklabels(ytks,fontsize = 12)\n",
    "ax[0].set_yticklabels(ytks,fontweight = 'bold')\n",
    "ax[0].set_ylabel('meters', fontsize = 12, fontweight = 'bold')\n",
    "#ax[0].xaxis.set_major_formatter(mdates.DateFormatter('%m/%d'))\n",
    "ax[0].yaxis.set_major_locator(ticker.FixedLocator(ytks))\n",
    "ax[0].yaxis.set_major_formatter(ticker.FormatStrFormatter(\"%3.1f\"))\n",
    "ax[0].legend(fontsize = 12)\n",
    "\n",
    "ax[1].plot(dsR.time,dsR.R2[0,:], label = lstr[0])\n",
    "ax[1].plot(dsR.time,dsR.R2[1,:], label = lstr[1])\n",
    "ax[1].plot(dsR.time,dsR.R2[2,:], label = lstr[2])\n",
    "ax[1].plot(dsR.time,dsR.R2[3,:], label = lstr[3])\n",
    "ax[1].plot(dsR.time,dsR.R2[4,:], label = lstr[4])\n",
    "ax[1].set_title('Run-up Calculations using Stockdon (2006) Eqn Wave Spectral data from bar site',fontsize = 16, fontweight = 'bold')\n",
    "ax[1].set_xticklabels(ax[1].get_xticklabels(),rotation = 30)\n",
    "ax[1].set_xticklabels(ax[1].get_xticklabels(),fontsize = 12)\n",
    "ax[1].set_xticklabels(ax[1].get_xticklabels(),fontweight = 'bold')\n",
    "ax[1].set_xlabel('2021', fontsize = 12, fontweight = 'bold')\n",
    "ax[1].set_yticks(ytks)\n",
    "ax[1].set_yticklabels(ytks,fontsize = 12)\n",
    "ax[1].set_yticklabels(ytks,fontweight = 'bold')\n",
    "ax[1].set_ylabel('meters', fontsize = 12, fontweight = 'bold')\n",
    "xtks=ax[1].get_xticks()\n",
    "ax[1].xaxis.set_major_locator(ticker.FixedLocator(xtks))\n",
    "ax[1].xaxis.set_major_formatter(mdates.DateFormatter('%m/%d'))\n",
    "ax[1].yaxis.set_major_locator(ticker.FixedLocator(ytks))\n",
    "ax[1].yaxis.set_major_formatter(ticker.FormatStrFormatter(\"%3.1f\"))\n",
    "#ax[1].legend(fontsize = 12)\n",
    "\n",
    "\n",
    "fig.savefig('PI_runup_calcs_Lange_eqn9_wavspec_bar_site_stockdon.png')"
   ]
  },
  {
   "cell_type": "code",
   "execution_count": null,
   "metadata": {},
   "outputs": [],
   "source": [
    "ax[1].get_xticks()"
   ]
  },
  {
   "cell_type": "markdown",
   "metadata": {},
   "source": [
    "## Try hvplot:"
   ]
  },
  {
   "cell_type": "code",
   "execution_count": null,
   "metadata": {},
   "outputs": [],
   "source": [
    "import hvplot.xarray \n",
    "import hvplot.pandas\n",
    "from holoviews import opts"
   ]
  },
  {
   "cell_type": "markdown",
   "metadata": {},
   "source": [
    "Need to extract into new dataset of variables with just time dim that want to plot using hvplot"
   ]
  },
  {
   "cell_type": "code",
   "execution_count": null,
   "metadata": {},
   "outputs": [],
   "source": [
    "ds = xr.Dataset()\n",
    "ds['time']=xr.DataArray(WVS.sel(time=slice(dtstart, dtend)).time.astype('datetime64[s]'),dims='time')\n",
    "ds['Hs']=xr.DataArray(WVS.sel(time=slice(dtstart, dtend)).Height_Hm0.values,dims='time')\n",
    "ds['Hmax']=xr.DataArray(WVS.sel(time=slice(dtstart, dtend)).Height_Hmax.values,dims='time')\n",
    "ds['Hmean']=xr.DataArray(WVS.sel(time=slice(dtstart, dtend)).Height_Hmean.values,dims='time')\n",
    "ds['Tp']=xr.DataArray(WVS.sel(time=slice(dtstart, dtend)).Period_Tp.values,dims='time')\n",
    "ds['Tm']=xr.DataArray(WVS.sel(time=slice(dtstart, dtend)).Period_Tm02.values,dims='time')\n",
    "ds['Tmax']=xr.DataArray(WVS.sel(time=slice(dtstart, dtend)).Period_Tmax.values,dims='time')\n",
    "ds['DirTp']=xr.DataArray(WVS.sel(time=slice(dtstart, dtend)).Direction_DirTp.values,dims='time')\n",
    "ds['DirSprd']=xr.DataArray(WVS.sel(time=slice(dtstart, dtend)).Direction_SprTp.values,dims='time')\n",
    "ds['Pres']=xr.DataArray(WVS.sel(time=slice(dtstart, dtend)).Pressure.values,dims='time')"
   ]
  },
  {
   "cell_type": "code",
   "execution_count": null,
   "metadata": {},
   "outputs": [],
   "source": [
    "ds.time"
   ]
  },
  {
   "cell_type": "code",
   "execution_count": null,
   "metadata": {},
   "outputs": [],
   "source": [
    "df = ds.to_dataframe() #need to convert to pandas dataframe to plot multiple line on an axes"
   ]
  },
  {
   "cell_type": "code",
   "execution_count": null,
   "metadata": {},
   "outputs": [],
   "source": [
    "df['time']=WVS.sel(time=slice(dtstart, dtend)).time"
   ]
  },
  {
   "cell_type": "code",
   "execution_count": null,
   "metadata": {},
   "outputs": [],
   "source": [
    "df['dt'] = pd.to_datetime(df['time'], format='%m/%d/%Y %I:%M:%S %p')"
   ]
  },
  {
   "cell_type": "code",
   "execution_count": null,
   "metadata": {},
   "outputs": [],
   "source": [
    "Hplot= df.hvplot(x='time', y = ['Hs', 'Hmax', 'Hmean'], width= 900, ylim = [-0.1, 5],\n",
    "                 title = 'Pea Island DUNEX @ bar site: Wave Heights',ylabel = 'meters',xlabel = 'mm/dd 2021' )"
   ]
  },
  {
   "cell_type": "code",
   "execution_count": null,
   "metadata": {
    "scrolled": true
   },
   "outputs": [],
   "source": [
    "Hplot"
   ]
  },
  {
   "cell_type": "code",
   "execution_count": null,
   "metadata": {},
   "outputs": [],
   "source": [
    "Tplot= df.hvplot(x='time', y = ['Tp', 'Tm'], width= 900, ylim = [-0.1,20])"
   ]
  },
  {
   "cell_type": "code",
   "execution_count": null,
   "metadata": {
    "scrolled": true
   },
   "outputs": [],
   "source": [
    "Tplot"
   ]
  },
  {
   "cell_type": "code",
   "execution_count": null,
   "metadata": {},
   "outputs": [],
   "source": [
    "ds_spec=xr.Dataset() #create xarray dataset of data wavespec data from Ocean Contour "
   ]
  },
  {
   "cell_type": "code",
   "execution_count": null,
   "metadata": {},
   "outputs": [],
   "source": [
    "ds_spec['time']=xr.DataArray(WVS.sel(time=slice(dtstart, dtend)).time,dims='time') \n",
    "#needed to round time to seconds to prevent output to netcdf being in nanoseconds\n",
    "ds_spec['frequency']=xr.DataArray(WVS.EnergySpectra_Frequency.values,dims='frequency')\n",
    "#ds_spec['frequency_ss']=xr.DataArray(WVS.sel(EnergySpectra_Frequency=slice(0.0399,0.25)).EnergySpectra_Frequency.values,dims='frequency_ss')\n",
    "ds_spec['energy']=xr.DataArray(WVS.sel(time=slice(dtstart, dtend)).EnergySpectra.values,dims=('frequency','time'))\n",
    "#ds_spec['energy_ss']=xr.DataArray(WVS.sel(time=slice(dtstart,dtend),EnergySpectra_Frequency=slice(0.0399,0.25)).EnergySpectra.values,dims=('frequency_ss','time'))"
   ]
  },
  {
   "cell_type": "code",
   "execution_count": null,
   "metadata": {},
   "outputs": [],
   "source": [
    "ds_spec\n"
   ]
  },
  {
   "cell_type": "code",
   "execution_count": null,
   "metadata": {},
   "outputs": [],
   "source": [
    "ds_spec.hvplot.image(x='time', y='frequency', z='energy',cmap='jet',width=900)"
   ]
  },
  {
   "cell_type": "code",
   "execution_count": null,
   "metadata": {},
   "outputs": [],
   "source": [
    "ds_spec.hvplot.quadmesh(x='time', y='frequency', z='energy',cmap='jet', width=900, geo = False)"
   ]
  },
  {
   "cell_type": "markdown",
   "metadata": {},
   "source": [
    "## Output results to netcdf files:"
   ]
  },
  {
   "cell_type": "code",
   "execution_count": null,
   "metadata": {},
   "outputs": [],
   "source": [
    "## Wave spec data"
   ]
  },
  {
   "cell_type": "code",
   "execution_count": null,
   "metadata": {},
   "outputs": [],
   "source": [
    "glob_attrs={}\n",
    "glob_attrs['description']='Wave Spectral Data from DUNEX site 1137bar Nortek Signature Data - proccesed using Ocean Contour with 20 min long wave burst'\n",
    "glob_attrs['source_file']=fn\n",
    "glob_attrs['raw_file']='S102410A008_outersurf.ad2cp'\n",
    "glob_attrs['InstrumentType:']= 'Nortek Signature 1000'\n",
    "glob_attrs['start_data']=dtstart\n",
    "glob_attrs['start_end']=dtend"
   ]
  },
  {
   "cell_type": "code",
   "execution_count": null,
   "metadata": {},
   "outputs": [],
   "source": [
    "ds_spec.attrs=glob_attrs"
   ]
  },
  {
   "cell_type": "code",
   "execution_count": null,
   "metadata": {},
   "outputs": [],
   "source": [
    "ds_spec.frequency.attrs=WVS.EnergySpectra_Frequency.attrs\n",
    "ds_spec.energy.attrs=WVS.EnergySpectra.attrs\n"
   ]
  },
  {
   "cell_type": "code",
   "execution_count": null,
   "metadata": {},
   "outputs": [],
   "source": [
    "fldrout = 'D:\\\\data\\\\DUNEX\\\\proc\\\\waves\\\\'"
   ]
  },
  {
   "cell_type": "code",
   "execution_count": null,
   "metadata": {},
   "outputs": [],
   "source": [
    "ds_spec.to_netcdf(fldrout+'1137sig_wavespec.cdf',encoding={\"time\":{\"dtype\":\"i4\"}})"
   ]
  },
  {
   "cell_type": "code",
   "execution_count": null,
   "metadata": {},
   "outputs": [],
   "source": [
    "## Wave stats data"
   ]
  },
  {
   "cell_type": "code",
   "execution_count": null,
   "metadata": {},
   "outputs": [],
   "source": [
    "glob_attrs['description']='Wave Stats Data from DUNEX site 1137bar Nortek Signature Data - proccesed using Ocean Contour with 20 min long wave burst'"
   ]
  },
  {
   "cell_type": "code",
   "execution_count": null,
   "metadata": {},
   "outputs": [],
   "source": [
    "ds.attrs=glob_attrs\n",
    "ds.Hs.attrs=WVS.Height_Hm0.attrs\n",
    "ds.Hmax.attrs=WVS.Height_Hmax.attrs\n",
    "ds.Hmean.attrs=WVS.Height_Hmean.attrs\n",
    "ds.Tp.attrs=WVS.Period_Tp.attrs\n",
    "ds.Tm.attrs=WVS.Period_Tm02.attrs\n",
    "ds.Tmax.attrs=WVS.Period_Tmax.attrs\n",
    "ds.DirTp.attrs=WVS.Direction_DirTp.attrs\n",
    "ds.DirSprd.attrs=WVS.Direction_SprTp.attrs\n",
    "ds.Pres.attrs=WVS.Pressure.attrs"
   ]
  },
  {
   "cell_type": "code",
   "execution_count": null,
   "metadata": {},
   "outputs": [],
   "source": [
    "ds.to_netcdf(fldrout+'1137sig_wavestats.cdf',encoding={\"time\":{\"dtype\":\"i4\"}})"
   ]
  },
  {
   "cell_type": "code",
   "execution_count": null,
   "metadata": {},
   "outputs": [],
   "source": [
    "## Run-up calcs data and results"
   ]
  },
  {
   "cell_type": "code",
   "execution_count": null,
   "metadata": {},
   "outputs": [],
   "source": [
    "glob_attrs['description']='Runup Calculations and input data from DUNEX Pea Island site 1137bar Nortek Signature Data: using Lange et al Eqn 9 & Stockdon Eqn'"
   ]
  },
  {
   "cell_type": "code",
   "execution_count": null,
   "metadata": {},
   "outputs": [],
   "source": [
    "dsR.attrs=glob_attrs\n",
    "dsR.frequency_ss.attrs=WVS.EnergySpectra_Frequency.attrs\n",
    "dsR.frequency_ss.attrs['description']='Sea/swell frequency band used in runup calcs'\n",
    "dsR.energy_ss.attrs=WVS.EnergySpectra.attrs\n",
    "dsR.energy_ss.attrs['description']='Sea/swell enegry spectra used in used in run-up calcs'\n",
    "dsR.Hs.attrs=WVS.Height_Hm0.attrs\n",
    "dsR.Tp.attrs=WVS.Period_Tp.attrs\n",
    "dsR.beta_f.attrs={'description':'foreshore beach slope parameter used in runup equations','units':'none'}\n",
    "dsR.beta_eff.attrs={'description':'effective mid-surfzone slope parameter used in runup equations','units':'none','note':'for these calcs beta_eff was estimated as beta_f*1/5'}\n",
    "dsR.R2G.attrs = {'description':'runup estimates using Eqn 9 from Lange et al','units':'meters'}\n",
    "dsR.R2.attrs = {'description':'runup estimates using Stockdon Eqn','units':'meters'}"
   ]
  },
  {
   "cell_type": "code",
   "execution_count": null,
   "metadata": {},
   "outputs": [],
   "source": [
    "dsR.to_netcdf(fldrout+'1137sig_runup_calcs.cdf',encoding={\"time\":{\"dtype\":\"i4\"}})"
   ]
  },
  {
   "cell_type": "code",
   "execution_count": null,
   "metadata": {},
   "outputs": [],
   "source": []
  }
 ],
 "metadata": {
  "kernelspec": {
   "display_name": "Python 3 (ipykernel)",
   "language": "python",
   "name": "python3"
  },
  "language_info": {
   "codemirror_mode": {
    "name": "ipython",
    "version": 3
   },
   "file_extension": ".py",
   "mimetype": "text/x-python",
   "name": "python",
   "nbconvert_exporter": "python",
   "pygments_lexer": "ipython3",
   "version": "3.9.10"
  }
 },
 "nbformat": 4,
 "nbformat_minor": 4
}
