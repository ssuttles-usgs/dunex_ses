{
 "cells": [
  {
   "cell_type": "code",
   "execution_count": 1,
   "metadata": {},
   "outputs": [],
   "source": [
    "import xarray as xr\n",
    "import sys\n",
    "sys.path.append('c:/users/ssuttles/git/djnpy')\n",
    "import matlabtools\n",
    "import matplotlib.pyplot as plt\n",
    "import pandas as pd\n",
    "import dolfyn as dlfn\n",
    "import matplotlib.dates\n",
    "# %%"
   ]
  },
  {
   "cell_type": "code",
   "execution_count": 10,
   "metadata": {},
   "outputs": [],
   "source": [
    "fldr = 'D:\\\\data\\\\DUNEX\\\\1137\\\\vec14836_orange\\\\'"
   ]
  },
  {
   "cell_type": "code",
   "execution_count": 11,
   "metadata": {},
   "outputs": [],
   "source": [
    "fn = '113705.VEC'"
   ]
  },
  {
   "cell_type": "code",
   "execution_count": 13,
   "metadata": {},
   "outputs": [],
   "source": [
    "fin=fldr+fn"
   ]
  },
  {
   "cell_type": "code",
   "execution_count": 14,
   "metadata": {},
   "outputs": [
    {
     "data": {
      "text/plain": [
       "'D:\\\\data\\\\DUNEX\\\\1137\\\\vec14836_orange\\\\113705.VEC'"
      ]
     },
     "execution_count": 14,
     "metadata": {},
     "output_type": "execute_result"
    }
   ],
   "source": [
    "fin"
   ]
  },
  {
   "cell_type": "code",
   "execution_count": 15,
   "metadata": {
    "scrolled": true
   },
   "outputs": [
    {
     "name": "stdout",
     "output_type": "stream",
     "text": [
      "Reading file D:\\data\\DUNEX\\1137\\vec14836_orange\\113705.VEC ...\n",
      " end of file at 392842522 bytes.\n"
     ]
    }
   ],
   "source": [
    "dat = dlfn.read(fin)"
   ]
  },
  {
   "cell_type": "code",
   "execution_count": 16,
   "metadata": {
    "scrolled": true
   },
   "outputs": [
    {
     "data": {
      "text/plain": [
       "NORTEK Header Data Configuration:\n",
       "  *------------\n",
       "  | fs                       : 8.0\n",
       "  > + checkdata\n",
       "    | Amp1                     : <class 'numpy.ndarray'>\n",
       "    | Amp2                     : <class 'numpy.ndarray'>\n",
       "    | Amp3                     : <class 'numpy.ndarray'>\n",
       "    | First_samp               : <class 'numpy.ndarray'>\n",
       "    | Samples                  : <class 'numpy.ndarray'>\n",
       "  > + data_header\n",
       "    | Corr1                    : <class 'numpy.ndarray'>\n",
       "    | Corr2                    : <class 'numpy.ndarray'>\n",
       "    | Corr3                    : <class 'numpy.ndarray'>\n",
       "    | NRecords                 : <class 'numpy.ndarray'>\n",
       "    | Noise1                   : <class 'numpy.ndarray'>\n",
       "    | Noise2                   : <class 'numpy.ndarray'>\n",
       "    | Noise3                   : <class 'numpy.ndarray'>\n",
       "    | Spare0                   : <class 'numpy.ndarray'>\n",
       "    | Spare1                   : <class 'numpy.ndarray'>\n",
       "    | time                     : <class 'numpy.ndarray'>\n",
       "  > + hardware\n",
       "    | FWversion                : 859057715\n",
       "    | HWrevision               : 4\n",
       "    | PICversion               : 0\n",
       "    | ProLogFWver              : 4.24\n",
       "    | ProLogID                 : 194\n",
       "    | config                   : 15412\n",
       "    | freq                     : 65535\n",
       "    | recSize                  : 3037724672\n",
       "    | serialNum                : VEC14836\n",
       "    | status                   : 12308\n",
       "  > + head\n",
       "    | NBeams                   : 3\n",
       "    | TransMatrix              : <class 'numpy.ndarray'>\n",
       "    | config                   : 63\n",
       "    | freq                     : 6000\n",
       "    | serialNum                : VCH 5558\u0000\u0000\u0000\u0000\n",
       "    | spare                    : \\\u0000\u0000\u0000\u0000\u0000\u0000\u0000\u0000\u0000\u0000\u0000\u0000\u0000\u0000\u0000\u0000\u0000\u0000\u0000\u0000\u0000\n",
       "    | system                   : <class 'bytes'>\n",
       "    | type                     : 1\n",
       "  > + user\n",
       "    | A1                       : 18883\n",
       "    | AdjSoundSpeed            : 16657\n",
       "    | AnaInAddr                : 0\n",
       "    | AnaOutScale              : 65535\n",
       "    | AvgInterval              : 64\n",
       "    | B0                       : 3857\n",
       "    | B1                       : 0\n",
       "    | BinLength                : 7\n",
       "    | Burst Mode               : True\n",
       "    | ClockDeploy              : <class 'numpy.ndarray'>\n",
       "    | Comments                 : \n",
       "    | CompassUpdRate           : 1\n",
       "    | CoordSystem              : BEAM\n",
       "    | CorrThresh               : 0\n",
       "    | DeployName               : 1137\n",
       "    | DiagInterval             : 10800\n",
       "    | DynPercPos               : 32768\n",
       "    | MeasInterval             : 10800\n",
       "    | Mode0                    : <class 'numpy.ndarray'>\n",
       "    | Mode1                    : <class 'numpy.ndarray'>\n",
       "    | ModeTest                 : <class 'numpy.ndarray'>\n",
       "    | NBeams                   : 3\n",
       "    | NBeamsCellDiag           : 1\n",
       "    | NBins                    : 1\n",
       "    | NBurst                   : 65535\n",
       "    | NPingsDiag               : 20\n",
       "    | NSamp                    : 8192\n",
       "    | NSampDiag                : 1\n",
       "    | Npings                   : 1\n",
       "    | Profile Timing           : continuous\n",
       "    | PwrCtrlReg               : <class 'numpy.ndarray'>\n",
       "    | QualConst                : <class 'numpy.ndarray'>\n",
       "    | SWVersion                : 13909\n",
       "    | Sample on Sync           : False\n",
       "    | Start on Sync            : False\n",
       "    | T1w                      : 16384\n",
       "    | T2w                      : 32768\n",
       "    | T3w                      : 16384\n",
       "    | TiLag2                   : 2\n",
       "    | TimCtrlReg               : <class 'numpy.ndarray'>\n",
       "    | VelAdjTable              : <class 'numpy.ndarray'>\n",
       "    | WrapMode                 : 0\n",
       "    | sync-out                 : end\n",
       "    > + Transmit\n",
       "      | blank distance           : 16\n",
       "      | pulse length             : 2\n",
       "      | receive length           : 7\n",
       "      | time_between_bursts      : 512\n",
       "      | time_between_pings       : 44\n",
       "    > + mode\n",
       "      | analog_output_mode       : False\n",
       "      | cell_position            : fixed\n",
       "      | diagnostics_mode         : False\n",
       "      | dynamic_pos_type         : pct of mean press\n",
       "      | mode_test_filter_output  : total\n",
       "      | mode_test_use_DSP        : False\n",
       "      | output_format            : Vector\n",
       "      | output_power             : False\n",
       "      | rate                     : 1hz\n",
       "      | reserved_EasyQ           : False\n",
       "      | serial_output            : False\n",
       "      | stage                    : False\n",
       "      | user_sound               : False\n",
       "      | vel_scale                : 1"
      ]
     },
     "execution_count": 16,
     "metadata": {},
     "output_type": "execute_result"
    }
   ],
   "source": [
    "dat.config"
   ]
  },
  {
   "cell_type": "code",
   "execution_count": 15,
   "metadata": {
    "scrolled": true
   },
   "outputs": [
    {
     "data": {
      "text/plain": [
       "<class 'dolfyn.data.base.TimeData'>: Data Object with Keys:\n",
       "  *------------\n",
       "  | amp                      : <array; (3, 14270104); uint8>\n",
       "  | corr                     : <array; (3, 14270104); uint8>"
      ]
     },
     "execution_count": 15,
     "metadata": {},
     "output_type": "execute_result"
    }
   ],
   "source": [
    "dat.signal"
   ]
  },
  {
   "cell_type": "code",
   "execution_count": 16,
   "metadata": {},
   "outputs": [
    {
     "data": {
      "text/plain": [
       "<class 'dolfyn.data.base.TimeData'>: Data Object with Keys:\n",
       "  *------------\n",
       "  | orientmat                : <array; (3, 3, 14270104); float32>\n",
       "  + raw                      : + DATA GROUP"
      ]
     },
     "execution_count": 16,
     "metadata": {},
     "output_type": "execute_result"
    }
   ],
   "source": [
    "dat.orient"
   ]
  },
  {
   "cell_type": "code",
   "execution_count": 17,
   "metadata": {},
   "outputs": [
    {
     "data": {
      "text/plain": [
       "<class 'dolfyn.data.base.TimeData'>: Data Object with Keys:\n",
       "  *------------\n",
       "  | heading                  : <array; (14270104,); float32>\n",
       "  | orientation_down         : <array; (14270104,); bool>\n",
       "  | pitch                    : <array; (14270104,); float32>\n",
       "  | roll                     : <array; (14270104,); float32>"
      ]
     },
     "execution_count": 17,
     "metadata": {},
     "output_type": "execute_result"
    }
   ],
   "source": [
    "dat.orient.raw"
   ]
  },
  {
   "cell_type": "code",
   "execution_count": 18,
   "metadata": {},
   "outputs": [
    {
     "data": {
      "text/plain": [
       "<class 'dolfyn.data.base.TimeData'>: Data Object with Keys:\n",
       "  *------------\n",
       "  | c_sound                  : <array; (14270104,); float32>\n",
       "  | pressure                 : <array; (14270104,); float64>\n",
       "  | temp                     : <array; (14270104,); float32>"
      ]
     },
     "execution_count": 18,
     "metadata": {},
     "output_type": "execute_result"
    }
   ],
   "source": [
    "dat.env"
   ]
  },
  {
   "cell_type": "code",
   "execution_count": 19,
   "metadata": {},
   "outputs": [],
   "source": [
    "ds = xr.Dataset()\n",
    "#times = [matlabtools.matlab2datetime(x, tz=None) for x in dat.mpltime]\n",
    "times = [dlfn.data.time.num2date(x) for x in dat.mpltime]\n",
    "ds['time'] = xr.DataArray(times, dims='time')\n",
    "ds['orientmat'] = xr.DataArray(dat.orient.orientmat,dims=('beam','beam', 'time'))\n",
    "# ds['time_b5'] = xr.DataArray(times, dims='time')\n",
    "#ds['range'] = xr.DataArray(dat.range, dims='range')\n",
    "#ds['range_b5'] = xr.DataArray(dat.range_b5, dims='range_b5')\n",
    "#ds['range_echo'] = xr.DataArray(dat.range_echo, dims='range_echo')\n",
    "#ds['beam'] = xr.DataArray(range(4), dims='beam')\n",
    "# ds['beam_b5']= xr.DataArray([4], dims='beam_b5')\n",
    "ds['vel'] = xr.DataArray(dat.vel, dims=('beam', 'time'))\n",
    "ds['amp'] = xr.DataArray(dat.signal.amp, dims=('beam', 'time'))\n",
    "ds['corr'] = xr.DataArray(dat.signal.corr, dims=('beam', 'time'))\n",
    "#ds['vel_b5'] = xr.DataArray(dat.vel_b5.squeeze(), dims=('range_b5', 'time'))\n",
    "ds['Tx_1211'] = xr.DataArray(dat.env.temp, dims='time')\n",
    "ds['P_1'] = xr.DataArray(dat.env.pressure, dims='time')\n",
    "ds['hdg'] = xr.DataArray(dat.orient.raw.heading, dims=('time'))\n",
    "ds['ptch'] = xr.DataArray(dat.orient.raw.pitch, dims=('time'))\n",
    "ds['roll'] = xr.DataArray(dat.orient.raw.roll, dims=('time'))\n",
    "ds.to_netcdf('1137vec.cdf', encoding={'amp':{'dtype':'int16'}, 'corr':{'dtype':'int16'}})"
   ]
  },
  {
   "cell_type": "code",
   "execution_count": 20,
   "metadata": {},
   "outputs": [
    {
     "data": {
      "text/html": [
       "<div><svg style=\"position: absolute; width: 0; height: 0; overflow: hidden\">\n",
       "<defs>\n",
       "<symbol id=\"icon-database\" viewBox=\"0 0 32 32\">\n",
       "<path d=\"M16 0c-8.837 0-16 2.239-16 5v4c0 2.761 7.163 5 16 5s16-2.239 16-5v-4c0-2.761-7.163-5-16-5z\"></path>\n",
       "<path d=\"M16 17c-8.837 0-16-2.239-16-5v6c0 2.761 7.163 5 16 5s16-2.239 16-5v-6c0 2.761-7.163 5-16 5z\"></path>\n",
       "<path d=\"M16 26c-8.837 0-16-2.239-16-5v6c0 2.761 7.163 5 16 5s16-2.239 16-5v-6c0 2.761-7.163 5-16 5z\"></path>\n",
       "</symbol>\n",
       "<symbol id=\"icon-file-text2\" viewBox=\"0 0 32 32\">\n",
       "<path d=\"M28.681 7.159c-0.694-0.947-1.662-2.053-2.724-3.116s-2.169-2.030-3.116-2.724c-1.612-1.182-2.393-1.319-2.841-1.319h-15.5c-1.378 0-2.5 1.121-2.5 2.5v27c0 1.378 1.122 2.5 2.5 2.5h23c1.378 0 2.5-1.122 2.5-2.5v-19.5c0-0.448-0.137-1.23-1.319-2.841zM24.543 5.457c0.959 0.959 1.712 1.825 2.268 2.543h-4.811v-4.811c0.718 0.556 1.584 1.309 2.543 2.268zM28 29.5c0 0.271-0.229 0.5-0.5 0.5h-23c-0.271 0-0.5-0.229-0.5-0.5v-27c0-0.271 0.229-0.5 0.5-0.5 0 0 15.499-0 15.5 0v7c0 0.552 0.448 1 1 1h7v19.5z\"></path>\n",
       "<path d=\"M23 26h-14c-0.552 0-1-0.448-1-1s0.448-1 1-1h14c0.552 0 1 0.448 1 1s-0.448 1-1 1z\"></path>\n",
       "<path d=\"M23 22h-14c-0.552 0-1-0.448-1-1s0.448-1 1-1h14c0.552 0 1 0.448 1 1s-0.448 1-1 1z\"></path>\n",
       "<path d=\"M23 18h-14c-0.552 0-1-0.448-1-1s0.448-1 1-1h14c0.552 0 1 0.448 1 1s-0.448 1-1 1z\"></path>\n",
       "</symbol>\n",
       "</defs>\n",
       "</svg>\n",
       "<style>/* CSS stylesheet for displaying xarray objects in jupyterlab.\n",
       " *\n",
       " */\n",
       "\n",
       ":root {\n",
       "  --xr-font-color0: var(--jp-content-font-color0, rgba(0, 0, 0, 1));\n",
       "  --xr-font-color2: var(--jp-content-font-color2, rgba(0, 0, 0, 0.54));\n",
       "  --xr-font-color3: var(--jp-content-font-color3, rgba(0, 0, 0, 0.38));\n",
       "  --xr-border-color: var(--jp-border-color2, #e0e0e0);\n",
       "  --xr-disabled-color: var(--jp-layout-color3, #bdbdbd);\n",
       "  --xr-background-color: var(--jp-layout-color0, white);\n",
       "  --xr-background-color-row-even: var(--jp-layout-color1, white);\n",
       "  --xr-background-color-row-odd: var(--jp-layout-color2, #eeeeee);\n",
       "}\n",
       "\n",
       "html[theme=dark],\n",
       "body.vscode-dark {\n",
       "  --xr-font-color0: rgba(255, 255, 255, 1);\n",
       "  --xr-font-color2: rgba(255, 255, 255, 0.54);\n",
       "  --xr-font-color3: rgba(255, 255, 255, 0.38);\n",
       "  --xr-border-color: #1F1F1F;\n",
       "  --xr-disabled-color: #515151;\n",
       "  --xr-background-color: #111111;\n",
       "  --xr-background-color-row-even: #111111;\n",
       "  --xr-background-color-row-odd: #313131;\n",
       "}\n",
       "\n",
       ".xr-wrap {\n",
       "  display: block;\n",
       "  min-width: 300px;\n",
       "  max-width: 700px;\n",
       "}\n",
       "\n",
       ".xr-text-repr-fallback {\n",
       "  /* fallback to plain text repr when CSS is not injected (untrusted notebook) */\n",
       "  display: none;\n",
       "}\n",
       "\n",
       ".xr-header {\n",
       "  padding-top: 6px;\n",
       "  padding-bottom: 6px;\n",
       "  margin-bottom: 4px;\n",
       "  border-bottom: solid 1px var(--xr-border-color);\n",
       "}\n",
       "\n",
       ".xr-header > div,\n",
       ".xr-header > ul {\n",
       "  display: inline;\n",
       "  margin-top: 0;\n",
       "  margin-bottom: 0;\n",
       "}\n",
       "\n",
       ".xr-obj-type,\n",
       ".xr-array-name {\n",
       "  margin-left: 2px;\n",
       "  margin-right: 10px;\n",
       "}\n",
       "\n",
       ".xr-obj-type {\n",
       "  color: var(--xr-font-color2);\n",
       "}\n",
       "\n",
       ".xr-sections {\n",
       "  padding-left: 0 !important;\n",
       "  display: grid;\n",
       "  grid-template-columns: 150px auto auto 1fr 20px 20px;\n",
       "}\n",
       "\n",
       ".xr-section-item {\n",
       "  display: contents;\n",
       "}\n",
       "\n",
       ".xr-section-item input {\n",
       "  display: none;\n",
       "}\n",
       "\n",
       ".xr-section-item input + label {\n",
       "  color: var(--xr-disabled-color);\n",
       "}\n",
       "\n",
       ".xr-section-item input:enabled + label {\n",
       "  cursor: pointer;\n",
       "  color: var(--xr-font-color2);\n",
       "}\n",
       "\n",
       ".xr-section-item input:enabled + label:hover {\n",
       "  color: var(--xr-font-color0);\n",
       "}\n",
       "\n",
       ".xr-section-summary {\n",
       "  grid-column: 1;\n",
       "  color: var(--xr-font-color2);\n",
       "  font-weight: 500;\n",
       "}\n",
       "\n",
       ".xr-section-summary > span {\n",
       "  display: inline-block;\n",
       "  padding-left: 0.5em;\n",
       "}\n",
       "\n",
       ".xr-section-summary-in:disabled + label {\n",
       "  color: var(--xr-font-color2);\n",
       "}\n",
       "\n",
       ".xr-section-summary-in + label:before {\n",
       "  display: inline-block;\n",
       "  content: '►';\n",
       "  font-size: 11px;\n",
       "  width: 15px;\n",
       "  text-align: center;\n",
       "}\n",
       "\n",
       ".xr-section-summary-in:disabled + label:before {\n",
       "  color: var(--xr-disabled-color);\n",
       "}\n",
       "\n",
       ".xr-section-summary-in:checked + label:before {\n",
       "  content: '▼';\n",
       "}\n",
       "\n",
       ".xr-section-summary-in:checked + label > span {\n",
       "  display: none;\n",
       "}\n",
       "\n",
       ".xr-section-summary,\n",
       ".xr-section-inline-details {\n",
       "  padding-top: 4px;\n",
       "  padding-bottom: 4px;\n",
       "}\n",
       "\n",
       ".xr-section-inline-details {\n",
       "  grid-column: 2 / -1;\n",
       "}\n",
       "\n",
       ".xr-section-details {\n",
       "  display: none;\n",
       "  grid-column: 1 / -1;\n",
       "  margin-bottom: 5px;\n",
       "}\n",
       "\n",
       ".xr-section-summary-in:checked ~ .xr-section-details {\n",
       "  display: contents;\n",
       "}\n",
       "\n",
       ".xr-array-wrap {\n",
       "  grid-column: 1 / -1;\n",
       "  display: grid;\n",
       "  grid-template-columns: 20px auto;\n",
       "}\n",
       "\n",
       ".xr-array-wrap > label {\n",
       "  grid-column: 1;\n",
       "  vertical-align: top;\n",
       "}\n",
       "\n",
       ".xr-preview {\n",
       "  color: var(--xr-font-color3);\n",
       "}\n",
       "\n",
       ".xr-array-preview,\n",
       ".xr-array-data {\n",
       "  padding: 0 5px !important;\n",
       "  grid-column: 2;\n",
       "}\n",
       "\n",
       ".xr-array-data,\n",
       ".xr-array-in:checked ~ .xr-array-preview {\n",
       "  display: none;\n",
       "}\n",
       "\n",
       ".xr-array-in:checked ~ .xr-array-data,\n",
       ".xr-array-preview {\n",
       "  display: inline-block;\n",
       "}\n",
       "\n",
       ".xr-dim-list {\n",
       "  display: inline-block !important;\n",
       "  list-style: none;\n",
       "  padding: 0 !important;\n",
       "  margin: 0;\n",
       "}\n",
       "\n",
       ".xr-dim-list li {\n",
       "  display: inline-block;\n",
       "  padding: 0;\n",
       "  margin: 0;\n",
       "}\n",
       "\n",
       ".xr-dim-list:before {\n",
       "  content: '(';\n",
       "}\n",
       "\n",
       ".xr-dim-list:after {\n",
       "  content: ')';\n",
       "}\n",
       "\n",
       ".xr-dim-list li:not(:last-child):after {\n",
       "  content: ',';\n",
       "  padding-right: 5px;\n",
       "}\n",
       "\n",
       ".xr-has-index {\n",
       "  font-weight: bold;\n",
       "}\n",
       "\n",
       ".xr-var-list,\n",
       ".xr-var-item {\n",
       "  display: contents;\n",
       "}\n",
       "\n",
       ".xr-var-item > div,\n",
       ".xr-var-item label,\n",
       ".xr-var-item > .xr-var-name span {\n",
       "  background-color: var(--xr-background-color-row-even);\n",
       "  margin-bottom: 0;\n",
       "}\n",
       "\n",
       ".xr-var-item > .xr-var-name:hover span {\n",
       "  padding-right: 5px;\n",
       "}\n",
       "\n",
       ".xr-var-list > li:nth-child(odd) > div,\n",
       ".xr-var-list > li:nth-child(odd) > label,\n",
       ".xr-var-list > li:nth-child(odd) > .xr-var-name span {\n",
       "  background-color: var(--xr-background-color-row-odd);\n",
       "}\n",
       "\n",
       ".xr-var-name {\n",
       "  grid-column: 1;\n",
       "}\n",
       "\n",
       ".xr-var-dims {\n",
       "  grid-column: 2;\n",
       "}\n",
       "\n",
       ".xr-var-dtype {\n",
       "  grid-column: 3;\n",
       "  text-align: right;\n",
       "  color: var(--xr-font-color2);\n",
       "}\n",
       "\n",
       ".xr-var-preview {\n",
       "  grid-column: 4;\n",
       "}\n",
       "\n",
       ".xr-var-name,\n",
       ".xr-var-dims,\n",
       ".xr-var-dtype,\n",
       ".xr-preview,\n",
       ".xr-attrs dt {\n",
       "  white-space: nowrap;\n",
       "  overflow: hidden;\n",
       "  text-overflow: ellipsis;\n",
       "  padding-right: 10px;\n",
       "}\n",
       "\n",
       ".xr-var-name:hover,\n",
       ".xr-var-dims:hover,\n",
       ".xr-var-dtype:hover,\n",
       ".xr-attrs dt:hover {\n",
       "  overflow: visible;\n",
       "  width: auto;\n",
       "  z-index: 1;\n",
       "}\n",
       "\n",
       ".xr-var-attrs,\n",
       ".xr-var-data {\n",
       "  display: none;\n",
       "  background-color: var(--xr-background-color) !important;\n",
       "  padding-bottom: 5px !important;\n",
       "}\n",
       "\n",
       ".xr-var-attrs-in:checked ~ .xr-var-attrs,\n",
       ".xr-var-data-in:checked ~ .xr-var-data {\n",
       "  display: block;\n",
       "}\n",
       "\n",
       ".xr-var-data > table {\n",
       "  float: right;\n",
       "}\n",
       "\n",
       ".xr-var-name span,\n",
       ".xr-var-data,\n",
       ".xr-attrs {\n",
       "  padding-left: 25px !important;\n",
       "}\n",
       "\n",
       ".xr-attrs,\n",
       ".xr-var-attrs,\n",
       ".xr-var-data {\n",
       "  grid-column: 1 / -1;\n",
       "}\n",
       "\n",
       "dl.xr-attrs {\n",
       "  padding: 0;\n",
       "  margin: 0;\n",
       "  display: grid;\n",
       "  grid-template-columns: 125px auto;\n",
       "}\n",
       "\n",
       ".xr-attrs dt,\n",
       ".xr-attrs dd {\n",
       "  padding: 0;\n",
       "  margin: 0;\n",
       "  float: left;\n",
       "  padding-right: 10px;\n",
       "  width: auto;\n",
       "}\n",
       "\n",
       ".xr-attrs dt {\n",
       "  font-weight: normal;\n",
       "  grid-column: 1;\n",
       "}\n",
       "\n",
       ".xr-attrs dt:hover span {\n",
       "  display: inline-block;\n",
       "  background: var(--xr-background-color);\n",
       "  padding-right: 10px;\n",
       "}\n",
       "\n",
       ".xr-attrs dd {\n",
       "  grid-column: 2;\n",
       "  white-space: pre-wrap;\n",
       "  word-break: break-all;\n",
       "}\n",
       "\n",
       ".xr-icon-database,\n",
       ".xr-icon-file-text2 {\n",
       "  display: inline-block;\n",
       "  vertical-align: middle;\n",
       "  width: 1em;\n",
       "  height: 1.5em !important;\n",
       "  stroke-width: 0;\n",
       "  stroke: currentColor;\n",
       "  fill: currentColor;\n",
       "}\n",
       "</style><pre class='xr-text-repr-fallback'>&lt;xarray.Dataset&gt;\n",
       "Dimensions:    (beam: 3, time: 14270104)\n",
       "Coordinates:\n",
       "  * time       (time) datetime64[ns] 2021-09-13T09:00:03.000014 ... 2021-10-1...\n",
       "Dimensions without coordinates: beam\n",
       "Data variables:\n",
       "    orientmat  (beam, beam, time) float32 -0.4735 -0.4735 ... 0.9828 0.9828\n",
       "    vel        (beam, time) float32 -1.028 -0.381 -0.504 ... 0.245 -0.383 1.315\n",
       "    amp        (beam, time) uint8 43 43 43 43 43 43 42 ... 39 39 40 40 39 40 39\n",
       "    corr       (beam, time) uint8 6 18 7 13 5 13 5 16 9 ... 6 7 19 2 14 11 8 16\n",
       "    Tx_1211    (time) float32 23.04 23.04 23.04 23.04 23.04 ... nan nan nan nan\n",
       "    P_1        (time) float64 0.698 0.695 0.704 0.704 ... 0.613 0.61 0.613 0.613\n",
       "    hdg        (time) float32 331.7 331.7 331.7 331.7 331.7 ... nan nan nan nan\n",
       "    ptch       (time) float32 -2.8 -2.8 -2.8 -2.8 -2.8 ... 0.9 nan nan nan nan\n",
       "    roll       (time) float32 1.9 1.9 1.9 1.9 1.9 1.9 ... -10.6 nan nan nan nan</pre><div class='xr-wrap' hidden><div class='xr-header'><div class='xr-obj-type'>xarray.Dataset</div></div><ul class='xr-sections'><li class='xr-section-item'><input id='section-51b4569b-917a-4e6d-8159-941b6143433d' class='xr-section-summary-in' type='checkbox' disabled ><label for='section-51b4569b-917a-4e6d-8159-941b6143433d' class='xr-section-summary'  title='Expand/collapse section'>Dimensions:</label><div class='xr-section-inline-details'><ul class='xr-dim-list'><li><span>beam</span>: 3</li><li><span class='xr-has-index'>time</span>: 14270104</li></ul></div><div class='xr-section-details'></div></li><li class='xr-section-item'><input id='section-2be0ae6d-905d-4d3d-943d-f1e0771ab946' class='xr-section-summary-in' type='checkbox'  checked><label for='section-2be0ae6d-905d-4d3d-943d-f1e0771ab946' class='xr-section-summary' >Coordinates: <span>(1)</span></label><div class='xr-section-inline-details'></div><div class='xr-section-details'><ul class='xr-var-list'><li class='xr-var-item'><div class='xr-var-name'><span class='xr-has-index'>time</span></div><div class='xr-var-dims'>(time)</div><div class='xr-var-dtype'>datetime64[ns]</div><div class='xr-var-preview xr-preview'>2021-09-13T09:00:03.000014 ... 2...</div><input id='attrs-ade9701e-4353-4843-8ac4-02dbb4fab16f' class='xr-var-attrs-in' type='checkbox' disabled><label for='attrs-ade9701e-4353-4843-8ac4-02dbb4fab16f' title='Show/Hide attributes'><svg class='icon xr-icon-file-text2'><use xlink:href='#icon-file-text2'></use></svg></label><input id='data-3782bda8-2f54-49af-8396-ec8736fc4e12' class='xr-var-data-in' type='checkbox'><label for='data-3782bda8-2f54-49af-8396-ec8736fc4e12' title='Show/Hide data repr'><svg class='icon xr-icon-database'><use xlink:href='#icon-database'></use></svg></label><div class='xr-var-attrs'><dl class='xr-attrs'></dl></div><div class='xr-var-data'><pre>array([&#x27;2021-09-13T09:00:03.000014000&#x27;, &#x27;2021-09-13T09:00:03.125018000&#x27;,\n",
       "       &#x27;2021-09-13T09:00:03.250013000&#x27;, ..., &#x27;2021-10-10T13:42:09.302371000&#x27;,\n",
       "       &#x27;2021-10-10T13:42:09.427395000&#x27;, &#x27;2021-10-10T13:42:09.552410000&#x27;],\n",
       "      dtype=&#x27;datetime64[ns]&#x27;)</pre></div></li></ul></div></li><li class='xr-section-item'><input id='section-212a9a16-e4bf-47ce-96fb-4e2be07351b0' class='xr-section-summary-in' type='checkbox'  checked><label for='section-212a9a16-e4bf-47ce-96fb-4e2be07351b0' class='xr-section-summary' >Data variables: <span>(9)</span></label><div class='xr-section-inline-details'></div><div class='xr-section-details'><ul class='xr-var-list'><li class='xr-var-item'><div class='xr-var-name'><span>orientmat</span></div><div class='xr-var-dims'>(beam, beam, time)</div><div class='xr-var-dtype'>float32</div><div class='xr-var-preview xr-preview'>-0.4735 -0.4735 ... 0.9828 0.9828</div><input id='attrs-a02ca4a1-4a61-425f-8ee3-3d453b2fd430' class='xr-var-attrs-in' type='checkbox' disabled><label for='attrs-a02ca4a1-4a61-425f-8ee3-3d453b2fd430' title='Show/Hide attributes'><svg class='icon xr-icon-file-text2'><use xlink:href='#icon-file-text2'></use></svg></label><input id='data-4ec6d33c-6e26-4780-b159-5c2f196b2b19' class='xr-var-data-in' type='checkbox'><label for='data-4ec6d33c-6e26-4780-b159-5c2f196b2b19' title='Show/Hide data repr'><svg class='icon xr-icon-database'><use xlink:href='#icon-database'></use></svg></label><div class='xr-var-attrs'><dl class='xr-attrs'></dl></div><div class='xr-var-data'><pre>array([[[-0.473522  , -0.473522  , -0.473522  , ...,  0.92509556,\n",
       "          0.92509556,  0.92509556],\n",
       "        [ 0.8794263 ,  0.8794263 ,  0.8794263 , ...,  0.37940934,\n",
       "          0.37940934,  0.37940934],\n",
       "        [-0.04884977, -0.04884977, -0.04884977, ...,  0.01570732,\n",
       "          0.01570732,  0.01570732]],\n",
       "\n",
       "       [[ 0.8807612 ,  0.8807612 ,  0.8807612 , ..., -0.3703076 ,\n",
       "         -0.3703076 , -0.3703076 ],\n",
       "        [ 0.47240132,  0.47240132,  0.47240132, ...,  0.9105177 ,\n",
       "          0.9105177 ,  0.9105177 ],\n",
       "        [-0.03311535, -0.03311535, -0.03311535, ..., -0.18392865,\n",
       "         -0.18392865, -0.18392865]],\n",
       "\n",
       "       [[-0.00604582, -0.00604582, -0.00604582, ..., -0.08408605,\n",
       "         -0.08408605, -0.08408605],\n",
       "        [-0.05870583, -0.05870583, -0.05870583, ...,  0.16433504,\n",
       "          0.16433504,  0.16433504],\n",
       "        [-0.998257  , -0.998257  , -0.998257  , ...,  0.9828141 ,\n",
       "          0.9828141 ,  0.9828141 ]]], dtype=float32)</pre></div></li><li class='xr-var-item'><div class='xr-var-name'><span>vel</span></div><div class='xr-var-dims'>(beam, time)</div><div class='xr-var-dtype'>float32</div><div class='xr-var-preview xr-preview'>-1.028 -0.381 ... -0.383 1.315</div><input id='attrs-b3ee507f-c669-4dd0-b046-dfc4eccec6ba' class='xr-var-attrs-in' type='checkbox' disabled><label for='attrs-b3ee507f-c669-4dd0-b046-dfc4eccec6ba' title='Show/Hide attributes'><svg class='icon xr-icon-file-text2'><use xlink:href='#icon-file-text2'></use></svg></label><input id='data-4ccce8a5-d659-4b5e-9e8a-0d40110d16dc' class='xr-var-data-in' type='checkbox'><label for='data-4ccce8a5-d659-4b5e-9e8a-0d40110d16dc' title='Show/Hide data repr'><svg class='icon xr-icon-database'><use xlink:href='#icon-database'></use></svg></label><div class='xr-var-attrs'><dl class='xr-attrs'></dl></div><div class='xr-var-data'><pre>array([[-1.028     , -0.381     , -0.504     , ...,  1.8840001 ,\n",
       "         1.621     ,  1.5940001 ],\n",
       "       [-2.299     ,  1.598     ,  0.377     , ..., -1.843     ,\n",
       "        -0.87600005,  0.47100002],\n",
       "       [ 0.757     , -0.273     , -0.052     , ...,  0.245     ,\n",
       "        -0.38300002,  1.315     ]], dtype=float32)</pre></div></li><li class='xr-var-item'><div class='xr-var-name'><span>amp</span></div><div class='xr-var-dims'>(beam, time)</div><div class='xr-var-dtype'>uint8</div><div class='xr-var-preview xr-preview'>43 43 43 43 43 ... 40 40 39 40 39</div><input id='attrs-9f9d44e2-84df-4ecb-878e-644a3700f423' class='xr-var-attrs-in' type='checkbox' disabled><label for='attrs-9f9d44e2-84df-4ecb-878e-644a3700f423' title='Show/Hide attributes'><svg class='icon xr-icon-file-text2'><use xlink:href='#icon-file-text2'></use></svg></label><input id='data-a657065e-48be-40cb-a8c4-7087b18f981b' class='xr-var-data-in' type='checkbox'><label for='data-a657065e-48be-40cb-a8c4-7087b18f981b' title='Show/Hide data repr'><svg class='icon xr-icon-database'><use xlink:href='#icon-database'></use></svg></label><div class='xr-var-attrs'><dl class='xr-attrs'></dl></div><div class='xr-var-data'><pre>array([[43, 43, 43, ..., 39, 39, 42],\n",
       "       [41, 40, 40, ..., 40, 41, 40],\n",
       "       [42, 41, 41, ..., 39, 40, 39]], dtype=uint8)</pre></div></li><li class='xr-var-item'><div class='xr-var-name'><span>corr</span></div><div class='xr-var-dims'>(beam, time)</div><div class='xr-var-dtype'>uint8</div><div class='xr-var-preview xr-preview'>6 18 7 13 5 13 ... 19 2 14 11 8 16</div><input id='attrs-6cf233ce-f7cb-462d-bf7e-958ea96b75a4' class='xr-var-attrs-in' type='checkbox' disabled><label for='attrs-6cf233ce-f7cb-462d-bf7e-958ea96b75a4' title='Show/Hide attributes'><svg class='icon xr-icon-file-text2'><use xlink:href='#icon-file-text2'></use></svg></label><input id='data-8fe28bd8-2948-4785-ad67-0abad72463d6' class='xr-var-data-in' type='checkbox'><label for='data-8fe28bd8-2948-4785-ad67-0abad72463d6' title='Show/Hide data repr'><svg class='icon xr-icon-database'><use xlink:href='#icon-database'></use></svg></label><div class='xr-var-attrs'><dl class='xr-attrs'></dl></div><div class='xr-var-data'><pre>array([[ 6, 18,  7, ...,  9, 18,  2],\n",
       "       [ 4, 12,  7, ...,  4, 15,  6],\n",
       "       [ 1, 13,  9, ..., 11,  8, 16]], dtype=uint8)</pre></div></li><li class='xr-var-item'><div class='xr-var-name'><span>Tx_1211</span></div><div class='xr-var-dims'>(time)</div><div class='xr-var-dtype'>float32</div><div class='xr-var-preview xr-preview'>23.04 23.04 23.04 ... nan nan nan</div><input id='attrs-39f4cd73-98c3-4f54-8cb8-5df9e1fb9db8' class='xr-var-attrs-in' type='checkbox' disabled><label for='attrs-39f4cd73-98c3-4f54-8cb8-5df9e1fb9db8' title='Show/Hide attributes'><svg class='icon xr-icon-file-text2'><use xlink:href='#icon-file-text2'></use></svg></label><input id='data-7842ef14-3ddf-4c52-8431-4fe458ac5570' class='xr-var-data-in' type='checkbox'><label for='data-7842ef14-3ddf-4c52-8431-4fe458ac5570' title='Show/Hide data repr'><svg class='icon xr-icon-database'><use xlink:href='#icon-database'></use></svg></label><div class='xr-var-attrs'><dl class='xr-attrs'></dl></div><div class='xr-var-data'><pre>array([23.039999, 23.041248, 23.0425  , ...,       nan,       nan,\n",
       "             nan], dtype=float32)</pre></div></li><li class='xr-var-item'><div class='xr-var-name'><span>P_1</span></div><div class='xr-var-dims'>(time)</div><div class='xr-var-dtype'>float64</div><div class='xr-var-preview xr-preview'>0.698 0.695 0.704 ... 0.613 0.613</div><input id='attrs-f0414752-de00-4a18-a7fa-3157a54aec96' class='xr-var-attrs-in' type='checkbox' disabled><label for='attrs-f0414752-de00-4a18-a7fa-3157a54aec96' title='Show/Hide attributes'><svg class='icon xr-icon-file-text2'><use xlink:href='#icon-file-text2'></use></svg></label><input id='data-6e2e5593-d0be-4824-8895-91657d912b6e' class='xr-var-data-in' type='checkbox'><label for='data-6e2e5593-d0be-4824-8895-91657d912b6e' title='Show/Hide data repr'><svg class='icon xr-icon-database'><use xlink:href='#icon-database'></use></svg></label><div class='xr-var-attrs'><dl class='xr-attrs'></dl></div><div class='xr-var-data'><pre>array([0.698, 0.695, 0.704, ..., 0.61 , 0.613, 0.613])</pre></div></li><li class='xr-var-item'><div class='xr-var-name'><span>hdg</span></div><div class='xr-var-dims'>(time)</div><div class='xr-var-dtype'>float32</div><div class='xr-var-preview xr-preview'>331.7 331.7 331.7 ... nan nan nan</div><input id='attrs-134d5918-387f-48b6-a68d-fe1fafcfbe42' class='xr-var-attrs-in' type='checkbox' disabled><label for='attrs-134d5918-387f-48b6-a68d-fe1fafcfbe42' title='Show/Hide attributes'><svg class='icon xr-icon-file-text2'><use xlink:href='#icon-file-text2'></use></svg></label><input id='data-fe15ee8a-b623-453f-b03f-502f1a55b104' class='xr-var-data-in' type='checkbox'><label for='data-fe15ee8a-b623-453f-b03f-502f1a55b104' title='Show/Hide data repr'><svg class='icon xr-icon-database'><use xlink:href='#icon-database'></use></svg></label><div class='xr-var-attrs'><dl class='xr-attrs'></dl></div><div class='xr-var-data'><pre>array([331.7, 331.7, 331.7, ...,   nan,   nan,   nan], dtype=float32)</pre></div></li><li class='xr-var-item'><div class='xr-var-name'><span>ptch</span></div><div class='xr-var-dims'>(time)</div><div class='xr-var-dtype'>float32</div><div class='xr-var-preview xr-preview'>-2.8 -2.8 -2.8 -2.8 ... nan nan nan</div><input id='attrs-64e834fb-9809-466e-81b2-05be05dfea37' class='xr-var-attrs-in' type='checkbox' disabled><label for='attrs-64e834fb-9809-466e-81b2-05be05dfea37' title='Show/Hide attributes'><svg class='icon xr-icon-file-text2'><use xlink:href='#icon-file-text2'></use></svg></label><input id='data-f659c30b-b015-47e2-8390-7696eb279ee0' class='xr-var-data-in' type='checkbox'><label for='data-f659c30b-b015-47e2-8390-7696eb279ee0' title='Show/Hide data repr'><svg class='icon xr-icon-database'><use xlink:href='#icon-database'></use></svg></label><div class='xr-var-attrs'><dl class='xr-attrs'></dl></div><div class='xr-var-data'><pre>array([-2.8, -2.8, -2.8, ...,  nan,  nan,  nan], dtype=float32)</pre></div></li><li class='xr-var-item'><div class='xr-var-name'><span>roll</span></div><div class='xr-var-dims'>(time)</div><div class='xr-var-dtype'>float32</div><div class='xr-var-preview xr-preview'>1.9 1.9 1.9 1.9 ... nan nan nan nan</div><input id='attrs-6870c22f-3f83-4774-9fc9-1b2df2e79c47' class='xr-var-attrs-in' type='checkbox' disabled><label for='attrs-6870c22f-3f83-4774-9fc9-1b2df2e79c47' title='Show/Hide attributes'><svg class='icon xr-icon-file-text2'><use xlink:href='#icon-file-text2'></use></svg></label><input id='data-3d1616e5-0729-45e4-9995-3b14180929f2' class='xr-var-data-in' type='checkbox'><label for='data-3d1616e5-0729-45e4-9995-3b14180929f2' title='Show/Hide data repr'><svg class='icon xr-icon-database'><use xlink:href='#icon-database'></use></svg></label><div class='xr-var-attrs'><dl class='xr-attrs'></dl></div><div class='xr-var-data'><pre>array([1.9, 1.9, 1.9, ..., nan, nan, nan], dtype=float32)</pre></div></li></ul></div></li><li class='xr-section-item'><input id='section-fc977b3f-2818-4472-80cd-39c9bc714f10' class='xr-section-summary-in' type='checkbox' disabled ><label for='section-fc977b3f-2818-4472-80cd-39c9bc714f10' class='xr-section-summary'  title='Expand/collapse section'>Attributes: <span>(0)</span></label><div class='xr-section-inline-details'></div><div class='xr-section-details'><dl class='xr-attrs'></dl></div></li></ul></div></div>"
      ],
      "text/plain": [
       "<xarray.Dataset>\n",
       "Dimensions:    (beam: 3, time: 14270104)\n",
       "Coordinates:\n",
       "  * time       (time) datetime64[ns] 2021-09-13T09:00:03.000014 ... 2021-10-1...\n",
       "Dimensions without coordinates: beam\n",
       "Data variables:\n",
       "    orientmat  (beam, beam, time) float32 -0.4735 -0.4735 ... 0.9828 0.9828\n",
       "    vel        (beam, time) float32 -1.028 -0.381 -0.504 ... 0.245 -0.383 1.315\n",
       "    amp        (beam, time) uint8 43 43 43 43 43 43 42 ... 39 39 40 40 39 40 39\n",
       "    corr       (beam, time) uint8 6 18 7 13 5 13 5 16 9 ... 6 7 19 2 14 11 8 16\n",
       "    Tx_1211    (time) float32 23.04 23.04 23.04 23.04 23.04 ... nan nan nan nan\n",
       "    P_1        (time) float64 0.698 0.695 0.704 0.704 ... 0.613 0.61 0.613 0.613\n",
       "    hdg        (time) float32 331.7 331.7 331.7 331.7 331.7 ... nan nan nan nan\n",
       "    ptch       (time) float32 -2.8 -2.8 -2.8 -2.8 -2.8 ... 0.9 nan nan nan nan\n",
       "    roll       (time) float32 1.9 1.9 1.9 1.9 1.9 1.9 ... -10.6 nan nan nan nan"
      ]
     },
     "execution_count": 20,
     "metadata": {},
     "output_type": "execute_result"
    }
   ],
   "source": [
    "ds"
   ]
  },
  {
   "cell_type": "code",
   "execution_count": 10,
   "metadata": {},
   "outputs": [
    {
     "data": {
      "text/plain": [
       "array([[-0.86026067, -0.50951713,  0.01854306],\n",
       "       [-0.5049473 ,  0.8564511 ,  0.1073303 ],\n",
       "       [-0.07056785,  0.08296877, -0.9940505 ]], dtype=float32)"
      ]
     },
     "execution_count": 10,
     "metadata": {},
     "output_type": "execute_result"
    }
   ],
   "source": [
    "dat.orient.orientmat[:,:,200000]"
   ]
  },
  {
   "cell_type": "code",
   "execution_count": 11,
   "metadata": {},
   "outputs": [
    {
     "data": {
      "text/plain": [
       "239.3625"
      ]
     },
     "execution_count": 11,
     "metadata": {},
     "output_type": "execute_result"
    }
   ],
   "source": [
    "dat.orient.raw.heading[200000]"
   ]
  },
  {
   "cell_type": "code",
   "execution_count": 12,
   "metadata": {},
   "outputs": [],
   "source": [
    "RAW = xr.open_dataset('1137vec.cdf')"
   ]
  },
  {
   "cell_type": "code",
   "execution_count": 13,
   "metadata": {},
   "outputs": [
    {
     "data": {
      "text/html": [
       "<div><svg style=\"position: absolute; width: 0; height: 0; overflow: hidden\">\n",
       "<defs>\n",
       "<symbol id=\"icon-database\" viewBox=\"0 0 32 32\">\n",
       "<path d=\"M16 0c-8.837 0-16 2.239-16 5v4c0 2.761 7.163 5 16 5s16-2.239 16-5v-4c0-2.761-7.163-5-16-5z\"></path>\n",
       "<path d=\"M16 17c-8.837 0-16-2.239-16-5v6c0 2.761 7.163 5 16 5s16-2.239 16-5v-6c0 2.761-7.163 5-16 5z\"></path>\n",
       "<path d=\"M16 26c-8.837 0-16-2.239-16-5v6c0 2.761 7.163 5 16 5s16-2.239 16-5v-6c0 2.761-7.163 5-16 5z\"></path>\n",
       "</symbol>\n",
       "<symbol id=\"icon-file-text2\" viewBox=\"0 0 32 32\">\n",
       "<path d=\"M28.681 7.159c-0.694-0.947-1.662-2.053-2.724-3.116s-2.169-2.030-3.116-2.724c-1.612-1.182-2.393-1.319-2.841-1.319h-15.5c-1.378 0-2.5 1.121-2.5 2.5v27c0 1.378 1.122 2.5 2.5 2.5h23c1.378 0 2.5-1.122 2.5-2.5v-19.5c0-0.448-0.137-1.23-1.319-2.841zM24.543 5.457c0.959 0.959 1.712 1.825 2.268 2.543h-4.811v-4.811c0.718 0.556 1.584 1.309 2.543 2.268zM28 29.5c0 0.271-0.229 0.5-0.5 0.5h-23c-0.271 0-0.5-0.229-0.5-0.5v-27c0-0.271 0.229-0.5 0.5-0.5 0 0 15.499-0 15.5 0v7c0 0.552 0.448 1 1 1h7v19.5z\"></path>\n",
       "<path d=\"M23 26h-14c-0.552 0-1-0.448-1-1s0.448-1 1-1h14c0.552 0 1 0.448 1 1s-0.448 1-1 1z\"></path>\n",
       "<path d=\"M23 22h-14c-0.552 0-1-0.448-1-1s0.448-1 1-1h14c0.552 0 1 0.448 1 1s-0.448 1-1 1z\"></path>\n",
       "<path d=\"M23 18h-14c-0.552 0-1-0.448-1-1s0.448-1 1-1h14c0.552 0 1 0.448 1 1s-0.448 1-1 1z\"></path>\n",
       "</symbol>\n",
       "</defs>\n",
       "</svg>\n",
       "<style>/* CSS stylesheet for displaying xarray objects in jupyterlab.\n",
       " *\n",
       " */\n",
       "\n",
       ":root {\n",
       "  --xr-font-color0: var(--jp-content-font-color0, rgba(0, 0, 0, 1));\n",
       "  --xr-font-color2: var(--jp-content-font-color2, rgba(0, 0, 0, 0.54));\n",
       "  --xr-font-color3: var(--jp-content-font-color3, rgba(0, 0, 0, 0.38));\n",
       "  --xr-border-color: var(--jp-border-color2, #e0e0e0);\n",
       "  --xr-disabled-color: var(--jp-layout-color3, #bdbdbd);\n",
       "  --xr-background-color: var(--jp-layout-color0, white);\n",
       "  --xr-background-color-row-even: var(--jp-layout-color1, white);\n",
       "  --xr-background-color-row-odd: var(--jp-layout-color2, #eeeeee);\n",
       "}\n",
       "\n",
       "html[theme=dark],\n",
       "body.vscode-dark {\n",
       "  --xr-font-color0: rgba(255, 255, 255, 1);\n",
       "  --xr-font-color2: rgba(255, 255, 255, 0.54);\n",
       "  --xr-font-color3: rgba(255, 255, 255, 0.38);\n",
       "  --xr-border-color: #1F1F1F;\n",
       "  --xr-disabled-color: #515151;\n",
       "  --xr-background-color: #111111;\n",
       "  --xr-background-color-row-even: #111111;\n",
       "  --xr-background-color-row-odd: #313131;\n",
       "}\n",
       "\n",
       ".xr-wrap {\n",
       "  display: block;\n",
       "  min-width: 300px;\n",
       "  max-width: 700px;\n",
       "}\n",
       "\n",
       ".xr-text-repr-fallback {\n",
       "  /* fallback to plain text repr when CSS is not injected (untrusted notebook) */\n",
       "  display: none;\n",
       "}\n",
       "\n",
       ".xr-header {\n",
       "  padding-top: 6px;\n",
       "  padding-bottom: 6px;\n",
       "  margin-bottom: 4px;\n",
       "  border-bottom: solid 1px var(--xr-border-color);\n",
       "}\n",
       "\n",
       ".xr-header > div,\n",
       ".xr-header > ul {\n",
       "  display: inline;\n",
       "  margin-top: 0;\n",
       "  margin-bottom: 0;\n",
       "}\n",
       "\n",
       ".xr-obj-type,\n",
       ".xr-array-name {\n",
       "  margin-left: 2px;\n",
       "  margin-right: 10px;\n",
       "}\n",
       "\n",
       ".xr-obj-type {\n",
       "  color: var(--xr-font-color2);\n",
       "}\n",
       "\n",
       ".xr-sections {\n",
       "  padding-left: 0 !important;\n",
       "  display: grid;\n",
       "  grid-template-columns: 150px auto auto 1fr 20px 20px;\n",
       "}\n",
       "\n",
       ".xr-section-item {\n",
       "  display: contents;\n",
       "}\n",
       "\n",
       ".xr-section-item input {\n",
       "  display: none;\n",
       "}\n",
       "\n",
       ".xr-section-item input + label {\n",
       "  color: var(--xr-disabled-color);\n",
       "}\n",
       "\n",
       ".xr-section-item input:enabled + label {\n",
       "  cursor: pointer;\n",
       "  color: var(--xr-font-color2);\n",
       "}\n",
       "\n",
       ".xr-section-item input:enabled + label:hover {\n",
       "  color: var(--xr-font-color0);\n",
       "}\n",
       "\n",
       ".xr-section-summary {\n",
       "  grid-column: 1;\n",
       "  color: var(--xr-font-color2);\n",
       "  font-weight: 500;\n",
       "}\n",
       "\n",
       ".xr-section-summary > span {\n",
       "  display: inline-block;\n",
       "  padding-left: 0.5em;\n",
       "}\n",
       "\n",
       ".xr-section-summary-in:disabled + label {\n",
       "  color: var(--xr-font-color2);\n",
       "}\n",
       "\n",
       ".xr-section-summary-in + label:before {\n",
       "  display: inline-block;\n",
       "  content: '►';\n",
       "  font-size: 11px;\n",
       "  width: 15px;\n",
       "  text-align: center;\n",
       "}\n",
       "\n",
       ".xr-section-summary-in:disabled + label:before {\n",
       "  color: var(--xr-disabled-color);\n",
       "}\n",
       "\n",
       ".xr-section-summary-in:checked + label:before {\n",
       "  content: '▼';\n",
       "}\n",
       "\n",
       ".xr-section-summary-in:checked + label > span {\n",
       "  display: none;\n",
       "}\n",
       "\n",
       ".xr-section-summary,\n",
       ".xr-section-inline-details {\n",
       "  padding-top: 4px;\n",
       "  padding-bottom: 4px;\n",
       "}\n",
       "\n",
       ".xr-section-inline-details {\n",
       "  grid-column: 2 / -1;\n",
       "}\n",
       "\n",
       ".xr-section-details {\n",
       "  display: none;\n",
       "  grid-column: 1 / -1;\n",
       "  margin-bottom: 5px;\n",
       "}\n",
       "\n",
       ".xr-section-summary-in:checked ~ .xr-section-details {\n",
       "  display: contents;\n",
       "}\n",
       "\n",
       ".xr-array-wrap {\n",
       "  grid-column: 1 / -1;\n",
       "  display: grid;\n",
       "  grid-template-columns: 20px auto;\n",
       "}\n",
       "\n",
       ".xr-array-wrap > label {\n",
       "  grid-column: 1;\n",
       "  vertical-align: top;\n",
       "}\n",
       "\n",
       ".xr-preview {\n",
       "  color: var(--xr-font-color3);\n",
       "}\n",
       "\n",
       ".xr-array-preview,\n",
       ".xr-array-data {\n",
       "  padding: 0 5px !important;\n",
       "  grid-column: 2;\n",
       "}\n",
       "\n",
       ".xr-array-data,\n",
       ".xr-array-in:checked ~ .xr-array-preview {\n",
       "  display: none;\n",
       "}\n",
       "\n",
       ".xr-array-in:checked ~ .xr-array-data,\n",
       ".xr-array-preview {\n",
       "  display: inline-block;\n",
       "}\n",
       "\n",
       ".xr-dim-list {\n",
       "  display: inline-block !important;\n",
       "  list-style: none;\n",
       "  padding: 0 !important;\n",
       "  margin: 0;\n",
       "}\n",
       "\n",
       ".xr-dim-list li {\n",
       "  display: inline-block;\n",
       "  padding: 0;\n",
       "  margin: 0;\n",
       "}\n",
       "\n",
       ".xr-dim-list:before {\n",
       "  content: '(';\n",
       "}\n",
       "\n",
       ".xr-dim-list:after {\n",
       "  content: ')';\n",
       "}\n",
       "\n",
       ".xr-dim-list li:not(:last-child):after {\n",
       "  content: ',';\n",
       "  padding-right: 5px;\n",
       "}\n",
       "\n",
       ".xr-has-index {\n",
       "  font-weight: bold;\n",
       "}\n",
       "\n",
       ".xr-var-list,\n",
       ".xr-var-item {\n",
       "  display: contents;\n",
       "}\n",
       "\n",
       ".xr-var-item > div,\n",
       ".xr-var-item label,\n",
       ".xr-var-item > .xr-var-name span {\n",
       "  background-color: var(--xr-background-color-row-even);\n",
       "  margin-bottom: 0;\n",
       "}\n",
       "\n",
       ".xr-var-item > .xr-var-name:hover span {\n",
       "  padding-right: 5px;\n",
       "}\n",
       "\n",
       ".xr-var-list > li:nth-child(odd) > div,\n",
       ".xr-var-list > li:nth-child(odd) > label,\n",
       ".xr-var-list > li:nth-child(odd) > .xr-var-name span {\n",
       "  background-color: var(--xr-background-color-row-odd);\n",
       "}\n",
       "\n",
       ".xr-var-name {\n",
       "  grid-column: 1;\n",
       "}\n",
       "\n",
       ".xr-var-dims {\n",
       "  grid-column: 2;\n",
       "}\n",
       "\n",
       ".xr-var-dtype {\n",
       "  grid-column: 3;\n",
       "  text-align: right;\n",
       "  color: var(--xr-font-color2);\n",
       "}\n",
       "\n",
       ".xr-var-preview {\n",
       "  grid-column: 4;\n",
       "}\n",
       "\n",
       ".xr-var-name,\n",
       ".xr-var-dims,\n",
       ".xr-var-dtype,\n",
       ".xr-preview,\n",
       ".xr-attrs dt {\n",
       "  white-space: nowrap;\n",
       "  overflow: hidden;\n",
       "  text-overflow: ellipsis;\n",
       "  padding-right: 10px;\n",
       "}\n",
       "\n",
       ".xr-var-name:hover,\n",
       ".xr-var-dims:hover,\n",
       ".xr-var-dtype:hover,\n",
       ".xr-attrs dt:hover {\n",
       "  overflow: visible;\n",
       "  width: auto;\n",
       "  z-index: 1;\n",
       "}\n",
       "\n",
       ".xr-var-attrs,\n",
       ".xr-var-data {\n",
       "  display: none;\n",
       "  background-color: var(--xr-background-color) !important;\n",
       "  padding-bottom: 5px !important;\n",
       "}\n",
       "\n",
       ".xr-var-attrs-in:checked ~ .xr-var-attrs,\n",
       ".xr-var-data-in:checked ~ .xr-var-data {\n",
       "  display: block;\n",
       "}\n",
       "\n",
       ".xr-var-data > table {\n",
       "  float: right;\n",
       "}\n",
       "\n",
       ".xr-var-name span,\n",
       ".xr-var-data,\n",
       ".xr-attrs {\n",
       "  padding-left: 25px !important;\n",
       "}\n",
       "\n",
       ".xr-attrs,\n",
       ".xr-var-attrs,\n",
       ".xr-var-data {\n",
       "  grid-column: 1 / -1;\n",
       "}\n",
       "\n",
       "dl.xr-attrs {\n",
       "  padding: 0;\n",
       "  margin: 0;\n",
       "  display: grid;\n",
       "  grid-template-columns: 125px auto;\n",
       "}\n",
       "\n",
       ".xr-attrs dt,\n",
       ".xr-attrs dd {\n",
       "  padding: 0;\n",
       "  margin: 0;\n",
       "  float: left;\n",
       "  padding-right: 10px;\n",
       "  width: auto;\n",
       "}\n",
       "\n",
       ".xr-attrs dt {\n",
       "  font-weight: normal;\n",
       "  grid-column: 1;\n",
       "}\n",
       "\n",
       ".xr-attrs dt:hover span {\n",
       "  display: inline-block;\n",
       "  background: var(--xr-background-color);\n",
       "  padding-right: 10px;\n",
       "}\n",
       "\n",
       ".xr-attrs dd {\n",
       "  grid-column: 2;\n",
       "  white-space: pre-wrap;\n",
       "  word-break: break-all;\n",
       "}\n",
       "\n",
       ".xr-icon-database,\n",
       ".xr-icon-file-text2 {\n",
       "  display: inline-block;\n",
       "  vertical-align: middle;\n",
       "  width: 1em;\n",
       "  height: 1.5em !important;\n",
       "  stroke-width: 0;\n",
       "  stroke: currentColor;\n",
       "  fill: currentColor;\n",
       "}\n",
       "</style><pre class='xr-text-repr-fallback'>&lt;xarray.Dataset&gt;\n",
       "Dimensions:  (beam: 3, time: 14270104)\n",
       "Coordinates:\n",
       "  * time     (time) datetime64[ns] 2021-09-13T09:00:03.000014 ... 2021-10-10T...\n",
       "Dimensions without coordinates: beam\n",
       "Data variables:\n",
       "    Tx_1211  (time) float32 ...\n",
       "    P_1      (time) float64 ...\n",
       "    hdg      (time) float32 ...\n",
       "    ptch     (time) float32 ...\n",
       "    roll     (time) float32 ...\n",
       "    vel      (beam, time) float32 ...\n",
       "    amp      (beam, time) int16 ...\n",
       "    corr     (beam, time) int16 ...</pre><div class='xr-wrap' hidden><div class='xr-header'><div class='xr-obj-type'>xarray.Dataset</div></div><ul class='xr-sections'><li class='xr-section-item'><input id='section-97f63915-0896-4850-a56a-53149a96adac' class='xr-section-summary-in' type='checkbox' disabled ><label for='section-97f63915-0896-4850-a56a-53149a96adac' class='xr-section-summary'  title='Expand/collapse section'>Dimensions:</label><div class='xr-section-inline-details'><ul class='xr-dim-list'><li><span>beam</span>: 3</li><li><span class='xr-has-index'>time</span>: 14270104</li></ul></div><div class='xr-section-details'></div></li><li class='xr-section-item'><input id='section-a53fc6ed-36c3-49ed-9572-63c23192680b' class='xr-section-summary-in' type='checkbox'  checked><label for='section-a53fc6ed-36c3-49ed-9572-63c23192680b' class='xr-section-summary' >Coordinates: <span>(1)</span></label><div class='xr-section-inline-details'></div><div class='xr-section-details'><ul class='xr-var-list'><li class='xr-var-item'><div class='xr-var-name'><span class='xr-has-index'>time</span></div><div class='xr-var-dims'>(time)</div><div class='xr-var-dtype'>datetime64[ns]</div><div class='xr-var-preview xr-preview'>2021-09-13T09:00:03.000014 ... 2...</div><input id='attrs-f3544ab6-aa29-435d-82b0-abd3add67456' class='xr-var-attrs-in' type='checkbox' disabled><label for='attrs-f3544ab6-aa29-435d-82b0-abd3add67456' title='Show/Hide attributes'><svg class='icon xr-icon-file-text2'><use xlink:href='#icon-file-text2'></use></svg></label><input id='data-99380dbe-2e9b-4ccc-809e-24d97cdef5e2' class='xr-var-data-in' type='checkbox'><label for='data-99380dbe-2e9b-4ccc-809e-24d97cdef5e2' title='Show/Hide data repr'><svg class='icon xr-icon-database'><use xlink:href='#icon-database'></use></svg></label><div class='xr-var-attrs'><dl class='xr-attrs'></dl></div><div class='xr-var-data'><pre>array([&#x27;2021-09-13T09:00:03.000014000&#x27;, &#x27;2021-09-13T09:00:03.125018000&#x27;,\n",
       "       &#x27;2021-09-13T09:00:03.250013000&#x27;, ..., &#x27;2021-10-10T13:42:09.302371000&#x27;,\n",
       "       &#x27;2021-10-10T13:42:09.427395000&#x27;, &#x27;2021-10-10T13:42:09.552410000&#x27;],\n",
       "      dtype=&#x27;datetime64[ns]&#x27;)</pre></div></li></ul></div></li><li class='xr-section-item'><input id='section-8206d8f3-78c4-4b8b-8e70-33f7e300f781' class='xr-section-summary-in' type='checkbox'  checked><label for='section-8206d8f3-78c4-4b8b-8e70-33f7e300f781' class='xr-section-summary' >Data variables: <span>(8)</span></label><div class='xr-section-inline-details'></div><div class='xr-section-details'><ul class='xr-var-list'><li class='xr-var-item'><div class='xr-var-name'><span>Tx_1211</span></div><div class='xr-var-dims'>(time)</div><div class='xr-var-dtype'>float32</div><div class='xr-var-preview xr-preview'>...</div><input id='attrs-27b1d438-a1f7-4067-ad45-678618db12d9' class='xr-var-attrs-in' type='checkbox' disabled><label for='attrs-27b1d438-a1f7-4067-ad45-678618db12d9' title='Show/Hide attributes'><svg class='icon xr-icon-file-text2'><use xlink:href='#icon-file-text2'></use></svg></label><input id='data-c7ede0c2-86a9-41a1-b193-a2e29022d73d' class='xr-var-data-in' type='checkbox'><label for='data-c7ede0c2-86a9-41a1-b193-a2e29022d73d' title='Show/Hide data repr'><svg class='icon xr-icon-database'><use xlink:href='#icon-database'></use></svg></label><div class='xr-var-attrs'><dl class='xr-attrs'></dl></div><div class='xr-var-data'><pre>[14270104 values with dtype=float32]</pre></div></li><li class='xr-var-item'><div class='xr-var-name'><span>P_1</span></div><div class='xr-var-dims'>(time)</div><div class='xr-var-dtype'>float64</div><div class='xr-var-preview xr-preview'>...</div><input id='attrs-bab4098b-611e-4217-9f57-56622d2e0dc1' class='xr-var-attrs-in' type='checkbox' disabled><label for='attrs-bab4098b-611e-4217-9f57-56622d2e0dc1' title='Show/Hide attributes'><svg class='icon xr-icon-file-text2'><use xlink:href='#icon-file-text2'></use></svg></label><input id='data-94a8e919-454c-4745-91d1-a1ae41e8db07' class='xr-var-data-in' type='checkbox'><label for='data-94a8e919-454c-4745-91d1-a1ae41e8db07' title='Show/Hide data repr'><svg class='icon xr-icon-database'><use xlink:href='#icon-database'></use></svg></label><div class='xr-var-attrs'><dl class='xr-attrs'></dl></div><div class='xr-var-data'><pre>[14270104 values with dtype=float64]</pre></div></li><li class='xr-var-item'><div class='xr-var-name'><span>hdg</span></div><div class='xr-var-dims'>(time)</div><div class='xr-var-dtype'>float32</div><div class='xr-var-preview xr-preview'>...</div><input id='attrs-e686ef59-36c1-4868-8aaf-091956f5bcd1' class='xr-var-attrs-in' type='checkbox' disabled><label for='attrs-e686ef59-36c1-4868-8aaf-091956f5bcd1' title='Show/Hide attributes'><svg class='icon xr-icon-file-text2'><use xlink:href='#icon-file-text2'></use></svg></label><input id='data-5b6be44c-29d9-4336-8c6a-79abd710cd73' class='xr-var-data-in' type='checkbox'><label for='data-5b6be44c-29d9-4336-8c6a-79abd710cd73' title='Show/Hide data repr'><svg class='icon xr-icon-database'><use xlink:href='#icon-database'></use></svg></label><div class='xr-var-attrs'><dl class='xr-attrs'></dl></div><div class='xr-var-data'><pre>[14270104 values with dtype=float32]</pre></div></li><li class='xr-var-item'><div class='xr-var-name'><span>ptch</span></div><div class='xr-var-dims'>(time)</div><div class='xr-var-dtype'>float32</div><div class='xr-var-preview xr-preview'>...</div><input id='attrs-0f813b29-8f87-4b11-8dd3-6cecac09b00e' class='xr-var-attrs-in' type='checkbox' disabled><label for='attrs-0f813b29-8f87-4b11-8dd3-6cecac09b00e' title='Show/Hide attributes'><svg class='icon xr-icon-file-text2'><use xlink:href='#icon-file-text2'></use></svg></label><input id='data-1ae5f29b-75b6-4bfc-8dfa-b35e9290802f' class='xr-var-data-in' type='checkbox'><label for='data-1ae5f29b-75b6-4bfc-8dfa-b35e9290802f' title='Show/Hide data repr'><svg class='icon xr-icon-database'><use xlink:href='#icon-database'></use></svg></label><div class='xr-var-attrs'><dl class='xr-attrs'></dl></div><div class='xr-var-data'><pre>[14270104 values with dtype=float32]</pre></div></li><li class='xr-var-item'><div class='xr-var-name'><span>roll</span></div><div class='xr-var-dims'>(time)</div><div class='xr-var-dtype'>float32</div><div class='xr-var-preview xr-preview'>...</div><input id='attrs-ec8ae8ed-1d6b-4c7f-ae69-57aa7ba38077' class='xr-var-attrs-in' type='checkbox' disabled><label for='attrs-ec8ae8ed-1d6b-4c7f-ae69-57aa7ba38077' title='Show/Hide attributes'><svg class='icon xr-icon-file-text2'><use xlink:href='#icon-file-text2'></use></svg></label><input id='data-16a50cd7-c629-4687-85a2-3da3232f2850' class='xr-var-data-in' type='checkbox'><label for='data-16a50cd7-c629-4687-85a2-3da3232f2850' title='Show/Hide data repr'><svg class='icon xr-icon-database'><use xlink:href='#icon-database'></use></svg></label><div class='xr-var-attrs'><dl class='xr-attrs'></dl></div><div class='xr-var-data'><pre>[14270104 values with dtype=float32]</pre></div></li><li class='xr-var-item'><div class='xr-var-name'><span>vel</span></div><div class='xr-var-dims'>(beam, time)</div><div class='xr-var-dtype'>float32</div><div class='xr-var-preview xr-preview'>...</div><input id='attrs-42d6ff0a-f0b1-40fe-a259-db32f04288c7' class='xr-var-attrs-in' type='checkbox' disabled><label for='attrs-42d6ff0a-f0b1-40fe-a259-db32f04288c7' title='Show/Hide attributes'><svg class='icon xr-icon-file-text2'><use xlink:href='#icon-file-text2'></use></svg></label><input id='data-14ef20a2-fcfd-4db4-8a1c-1d294ce3746d' class='xr-var-data-in' type='checkbox'><label for='data-14ef20a2-fcfd-4db4-8a1c-1d294ce3746d' title='Show/Hide data repr'><svg class='icon xr-icon-database'><use xlink:href='#icon-database'></use></svg></label><div class='xr-var-attrs'><dl class='xr-attrs'></dl></div><div class='xr-var-data'><pre>[42810312 values with dtype=float32]</pre></div></li><li class='xr-var-item'><div class='xr-var-name'><span>amp</span></div><div class='xr-var-dims'>(beam, time)</div><div class='xr-var-dtype'>int16</div><div class='xr-var-preview xr-preview'>...</div><input id='attrs-62da6c48-fc99-43e0-8462-e398ff270a76' class='xr-var-attrs-in' type='checkbox' disabled><label for='attrs-62da6c48-fc99-43e0-8462-e398ff270a76' title='Show/Hide attributes'><svg class='icon xr-icon-file-text2'><use xlink:href='#icon-file-text2'></use></svg></label><input id='data-3c1777e0-4ef1-4e58-96e6-696bc8e30123' class='xr-var-data-in' type='checkbox'><label for='data-3c1777e0-4ef1-4e58-96e6-696bc8e30123' title='Show/Hide data repr'><svg class='icon xr-icon-database'><use xlink:href='#icon-database'></use></svg></label><div class='xr-var-attrs'><dl class='xr-attrs'></dl></div><div class='xr-var-data'><pre>[42810312 values with dtype=int16]</pre></div></li><li class='xr-var-item'><div class='xr-var-name'><span>corr</span></div><div class='xr-var-dims'>(beam, time)</div><div class='xr-var-dtype'>int16</div><div class='xr-var-preview xr-preview'>...</div><input id='attrs-0f85afca-df78-44cd-98ad-5317dfd05227' class='xr-var-attrs-in' type='checkbox' disabled><label for='attrs-0f85afca-df78-44cd-98ad-5317dfd05227' title='Show/Hide attributes'><svg class='icon xr-icon-file-text2'><use xlink:href='#icon-file-text2'></use></svg></label><input id='data-7d7dd14c-9511-4bf5-a165-842a49e0d759' class='xr-var-data-in' type='checkbox'><label for='data-7d7dd14c-9511-4bf5-a165-842a49e0d759' title='Show/Hide data repr'><svg class='icon xr-icon-database'><use xlink:href='#icon-database'></use></svg></label><div class='xr-var-attrs'><dl class='xr-attrs'></dl></div><div class='xr-var-data'><pre>[42810312 values with dtype=int16]</pre></div></li></ul></div></li><li class='xr-section-item'><input id='section-6b98f121-0322-4953-9163-389489a19c18' class='xr-section-summary-in' type='checkbox' disabled ><label for='section-6b98f121-0322-4953-9163-389489a19c18' class='xr-section-summary'  title='Expand/collapse section'>Attributes: <span>(0)</span></label><div class='xr-section-inline-details'></div><div class='xr-section-details'><dl class='xr-attrs'></dl></div></li></ul></div></div>"
      ],
      "text/plain": [
       "<xarray.Dataset>\n",
       "Dimensions:  (beam: 3, time: 14270104)\n",
       "Coordinates:\n",
       "  * time     (time) datetime64[ns] 2021-09-13T09:00:03.000014 ... 2021-10-10T...\n",
       "Dimensions without coordinates: beam\n",
       "Data variables:\n",
       "    Tx_1211  (time) float32 ...\n",
       "    P_1      (time) float64 ...\n",
       "    hdg      (time) float32 ...\n",
       "    ptch     (time) float32 ...\n",
       "    roll     (time) float32 ...\n",
       "    vel      (beam, time) float32 ...\n",
       "    amp      (beam, time) int16 ...\n",
       "    corr     (beam, time) int16 ..."
      ]
     },
     "execution_count": 13,
     "metadata": {},
     "output_type": "execute_result"
    }
   ],
   "source": [
    "RAW"
   ]
  },
  {
   "cell_type": "code",
   "execution_count": 14,
   "metadata": {},
   "outputs": [
    {
     "data": {
      "text/html": [
       "<div><svg style=\"position: absolute; width: 0; height: 0; overflow: hidden\">\n",
       "<defs>\n",
       "<symbol id=\"icon-database\" viewBox=\"0 0 32 32\">\n",
       "<path d=\"M16 0c-8.837 0-16 2.239-16 5v4c0 2.761 7.163 5 16 5s16-2.239 16-5v-4c0-2.761-7.163-5-16-5z\"></path>\n",
       "<path d=\"M16 17c-8.837 0-16-2.239-16-5v6c0 2.761 7.163 5 16 5s16-2.239 16-5v-6c0 2.761-7.163 5-16 5z\"></path>\n",
       "<path d=\"M16 26c-8.837 0-16-2.239-16-5v6c0 2.761 7.163 5 16 5s16-2.239 16-5v-6c0 2.761-7.163 5-16 5z\"></path>\n",
       "</symbol>\n",
       "<symbol id=\"icon-file-text2\" viewBox=\"0 0 32 32\">\n",
       "<path d=\"M28.681 7.159c-0.694-0.947-1.662-2.053-2.724-3.116s-2.169-2.030-3.116-2.724c-1.612-1.182-2.393-1.319-2.841-1.319h-15.5c-1.378 0-2.5 1.121-2.5 2.5v27c0 1.378 1.122 2.5 2.5 2.5h23c1.378 0 2.5-1.122 2.5-2.5v-19.5c0-0.448-0.137-1.23-1.319-2.841zM24.543 5.457c0.959 0.959 1.712 1.825 2.268 2.543h-4.811v-4.811c0.718 0.556 1.584 1.309 2.543 2.268zM28 29.5c0 0.271-0.229 0.5-0.5 0.5h-23c-0.271 0-0.5-0.229-0.5-0.5v-27c0-0.271 0.229-0.5 0.5-0.5 0 0 15.499-0 15.5 0v7c0 0.552 0.448 1 1 1h7v19.5z\"></path>\n",
       "<path d=\"M23 26h-14c-0.552 0-1-0.448-1-1s0.448-1 1-1h14c0.552 0 1 0.448 1 1s-0.448 1-1 1z\"></path>\n",
       "<path d=\"M23 22h-14c-0.552 0-1-0.448-1-1s0.448-1 1-1h14c0.552 0 1 0.448 1 1s-0.448 1-1 1z\"></path>\n",
       "<path d=\"M23 18h-14c-0.552 0-1-0.448-1-1s0.448-1 1-1h14c0.552 0 1 0.448 1 1s-0.448 1-1 1z\"></path>\n",
       "</symbol>\n",
       "</defs>\n",
       "</svg>\n",
       "<style>/* CSS stylesheet for displaying xarray objects in jupyterlab.\n",
       " *\n",
       " */\n",
       "\n",
       ":root {\n",
       "  --xr-font-color0: var(--jp-content-font-color0, rgba(0, 0, 0, 1));\n",
       "  --xr-font-color2: var(--jp-content-font-color2, rgba(0, 0, 0, 0.54));\n",
       "  --xr-font-color3: var(--jp-content-font-color3, rgba(0, 0, 0, 0.38));\n",
       "  --xr-border-color: var(--jp-border-color2, #e0e0e0);\n",
       "  --xr-disabled-color: var(--jp-layout-color3, #bdbdbd);\n",
       "  --xr-background-color: var(--jp-layout-color0, white);\n",
       "  --xr-background-color-row-even: var(--jp-layout-color1, white);\n",
       "  --xr-background-color-row-odd: var(--jp-layout-color2, #eeeeee);\n",
       "}\n",
       "\n",
       "html[theme=dark],\n",
       "body.vscode-dark {\n",
       "  --xr-font-color0: rgba(255, 255, 255, 1);\n",
       "  --xr-font-color2: rgba(255, 255, 255, 0.54);\n",
       "  --xr-font-color3: rgba(255, 255, 255, 0.38);\n",
       "  --xr-border-color: #1F1F1F;\n",
       "  --xr-disabled-color: #515151;\n",
       "  --xr-background-color: #111111;\n",
       "  --xr-background-color-row-even: #111111;\n",
       "  --xr-background-color-row-odd: #313131;\n",
       "}\n",
       "\n",
       ".xr-wrap {\n",
       "  display: block;\n",
       "  min-width: 300px;\n",
       "  max-width: 700px;\n",
       "}\n",
       "\n",
       ".xr-text-repr-fallback {\n",
       "  /* fallback to plain text repr when CSS is not injected (untrusted notebook) */\n",
       "  display: none;\n",
       "}\n",
       "\n",
       ".xr-header {\n",
       "  padding-top: 6px;\n",
       "  padding-bottom: 6px;\n",
       "  margin-bottom: 4px;\n",
       "  border-bottom: solid 1px var(--xr-border-color);\n",
       "}\n",
       "\n",
       ".xr-header > div,\n",
       ".xr-header > ul {\n",
       "  display: inline;\n",
       "  margin-top: 0;\n",
       "  margin-bottom: 0;\n",
       "}\n",
       "\n",
       ".xr-obj-type,\n",
       ".xr-array-name {\n",
       "  margin-left: 2px;\n",
       "  margin-right: 10px;\n",
       "}\n",
       "\n",
       ".xr-obj-type {\n",
       "  color: var(--xr-font-color2);\n",
       "}\n",
       "\n",
       ".xr-sections {\n",
       "  padding-left: 0 !important;\n",
       "  display: grid;\n",
       "  grid-template-columns: 150px auto auto 1fr 20px 20px;\n",
       "}\n",
       "\n",
       ".xr-section-item {\n",
       "  display: contents;\n",
       "}\n",
       "\n",
       ".xr-section-item input {\n",
       "  display: none;\n",
       "}\n",
       "\n",
       ".xr-section-item input + label {\n",
       "  color: var(--xr-disabled-color);\n",
       "}\n",
       "\n",
       ".xr-section-item input:enabled + label {\n",
       "  cursor: pointer;\n",
       "  color: var(--xr-font-color2);\n",
       "}\n",
       "\n",
       ".xr-section-item input:enabled + label:hover {\n",
       "  color: var(--xr-font-color0);\n",
       "}\n",
       "\n",
       ".xr-section-summary {\n",
       "  grid-column: 1;\n",
       "  color: var(--xr-font-color2);\n",
       "  font-weight: 500;\n",
       "}\n",
       "\n",
       ".xr-section-summary > span {\n",
       "  display: inline-block;\n",
       "  padding-left: 0.5em;\n",
       "}\n",
       "\n",
       ".xr-section-summary-in:disabled + label {\n",
       "  color: var(--xr-font-color2);\n",
       "}\n",
       "\n",
       ".xr-section-summary-in + label:before {\n",
       "  display: inline-block;\n",
       "  content: '►';\n",
       "  font-size: 11px;\n",
       "  width: 15px;\n",
       "  text-align: center;\n",
       "}\n",
       "\n",
       ".xr-section-summary-in:disabled + label:before {\n",
       "  color: var(--xr-disabled-color);\n",
       "}\n",
       "\n",
       ".xr-section-summary-in:checked + label:before {\n",
       "  content: '▼';\n",
       "}\n",
       "\n",
       ".xr-section-summary-in:checked + label > span {\n",
       "  display: none;\n",
       "}\n",
       "\n",
       ".xr-section-summary,\n",
       ".xr-section-inline-details {\n",
       "  padding-top: 4px;\n",
       "  padding-bottom: 4px;\n",
       "}\n",
       "\n",
       ".xr-section-inline-details {\n",
       "  grid-column: 2 / -1;\n",
       "}\n",
       "\n",
       ".xr-section-details {\n",
       "  display: none;\n",
       "  grid-column: 1 / -1;\n",
       "  margin-bottom: 5px;\n",
       "}\n",
       "\n",
       ".xr-section-summary-in:checked ~ .xr-section-details {\n",
       "  display: contents;\n",
       "}\n",
       "\n",
       ".xr-array-wrap {\n",
       "  grid-column: 1 / -1;\n",
       "  display: grid;\n",
       "  grid-template-columns: 20px auto;\n",
       "}\n",
       "\n",
       ".xr-array-wrap > label {\n",
       "  grid-column: 1;\n",
       "  vertical-align: top;\n",
       "}\n",
       "\n",
       ".xr-preview {\n",
       "  color: var(--xr-font-color3);\n",
       "}\n",
       "\n",
       ".xr-array-preview,\n",
       ".xr-array-data {\n",
       "  padding: 0 5px !important;\n",
       "  grid-column: 2;\n",
       "}\n",
       "\n",
       ".xr-array-data,\n",
       ".xr-array-in:checked ~ .xr-array-preview {\n",
       "  display: none;\n",
       "}\n",
       "\n",
       ".xr-array-in:checked ~ .xr-array-data,\n",
       ".xr-array-preview {\n",
       "  display: inline-block;\n",
       "}\n",
       "\n",
       ".xr-dim-list {\n",
       "  display: inline-block !important;\n",
       "  list-style: none;\n",
       "  padding: 0 !important;\n",
       "  margin: 0;\n",
       "}\n",
       "\n",
       ".xr-dim-list li {\n",
       "  display: inline-block;\n",
       "  padding: 0;\n",
       "  margin: 0;\n",
       "}\n",
       "\n",
       ".xr-dim-list:before {\n",
       "  content: '(';\n",
       "}\n",
       "\n",
       ".xr-dim-list:after {\n",
       "  content: ')';\n",
       "}\n",
       "\n",
       ".xr-dim-list li:not(:last-child):after {\n",
       "  content: ',';\n",
       "  padding-right: 5px;\n",
       "}\n",
       "\n",
       ".xr-has-index {\n",
       "  font-weight: bold;\n",
       "}\n",
       "\n",
       ".xr-var-list,\n",
       ".xr-var-item {\n",
       "  display: contents;\n",
       "}\n",
       "\n",
       ".xr-var-item > div,\n",
       ".xr-var-item label,\n",
       ".xr-var-item > .xr-var-name span {\n",
       "  background-color: var(--xr-background-color-row-even);\n",
       "  margin-bottom: 0;\n",
       "}\n",
       "\n",
       ".xr-var-item > .xr-var-name:hover span {\n",
       "  padding-right: 5px;\n",
       "}\n",
       "\n",
       ".xr-var-list > li:nth-child(odd) > div,\n",
       ".xr-var-list > li:nth-child(odd) > label,\n",
       ".xr-var-list > li:nth-child(odd) > .xr-var-name span {\n",
       "  background-color: var(--xr-background-color-row-odd);\n",
       "}\n",
       "\n",
       ".xr-var-name {\n",
       "  grid-column: 1;\n",
       "}\n",
       "\n",
       ".xr-var-dims {\n",
       "  grid-column: 2;\n",
       "}\n",
       "\n",
       ".xr-var-dtype {\n",
       "  grid-column: 3;\n",
       "  text-align: right;\n",
       "  color: var(--xr-font-color2);\n",
       "}\n",
       "\n",
       ".xr-var-preview {\n",
       "  grid-column: 4;\n",
       "}\n",
       "\n",
       ".xr-var-name,\n",
       ".xr-var-dims,\n",
       ".xr-var-dtype,\n",
       ".xr-preview,\n",
       ".xr-attrs dt {\n",
       "  white-space: nowrap;\n",
       "  overflow: hidden;\n",
       "  text-overflow: ellipsis;\n",
       "  padding-right: 10px;\n",
       "}\n",
       "\n",
       ".xr-var-name:hover,\n",
       ".xr-var-dims:hover,\n",
       ".xr-var-dtype:hover,\n",
       ".xr-attrs dt:hover {\n",
       "  overflow: visible;\n",
       "  width: auto;\n",
       "  z-index: 1;\n",
       "}\n",
       "\n",
       ".xr-var-attrs,\n",
       ".xr-var-data {\n",
       "  display: none;\n",
       "  background-color: var(--xr-background-color) !important;\n",
       "  padding-bottom: 5px !important;\n",
       "}\n",
       "\n",
       ".xr-var-attrs-in:checked ~ .xr-var-attrs,\n",
       ".xr-var-data-in:checked ~ .xr-var-data {\n",
       "  display: block;\n",
       "}\n",
       "\n",
       ".xr-var-data > table {\n",
       "  float: right;\n",
       "}\n",
       "\n",
       ".xr-var-name span,\n",
       ".xr-var-data,\n",
       ".xr-attrs {\n",
       "  padding-left: 25px !important;\n",
       "}\n",
       "\n",
       ".xr-attrs,\n",
       ".xr-var-attrs,\n",
       ".xr-var-data {\n",
       "  grid-column: 1 / -1;\n",
       "}\n",
       "\n",
       "dl.xr-attrs {\n",
       "  padding: 0;\n",
       "  margin: 0;\n",
       "  display: grid;\n",
       "  grid-template-columns: 125px auto;\n",
       "}\n",
       "\n",
       ".xr-attrs dt,\n",
       ".xr-attrs dd {\n",
       "  padding: 0;\n",
       "  margin: 0;\n",
       "  float: left;\n",
       "  padding-right: 10px;\n",
       "  width: auto;\n",
       "}\n",
       "\n",
       ".xr-attrs dt {\n",
       "  font-weight: normal;\n",
       "  grid-column: 1;\n",
       "}\n",
       "\n",
       ".xr-attrs dt:hover span {\n",
       "  display: inline-block;\n",
       "  background: var(--xr-background-color);\n",
       "  padding-right: 10px;\n",
       "}\n",
       "\n",
       ".xr-attrs dd {\n",
       "  grid-column: 2;\n",
       "  white-space: pre-wrap;\n",
       "  word-break: break-all;\n",
       "}\n",
       "\n",
       ".xr-icon-database,\n",
       ".xr-icon-file-text2 {\n",
       "  display: inline-block;\n",
       "  vertical-align: middle;\n",
       "  width: 1em;\n",
       "  height: 1.5em !important;\n",
       "  stroke-width: 0;\n",
       "  stroke: currentColor;\n",
       "  fill: currentColor;\n",
       "}\n",
       "</style><pre class='xr-text-repr-fallback'>&lt;xarray.DataArray &#x27;hdg&#x27; (time: 14270104)&gt;\n",
       "[14270104 values with dtype=float32]\n",
       "Coordinates:\n",
       "  * time     (time) datetime64[ns] 2021-09-13T09:00:03.000014 ... 2021-10-10T...</pre><div class='xr-wrap' hidden><div class='xr-header'><div class='xr-obj-type'>xarray.DataArray</div><div class='xr-array-name'>'hdg'</div><ul class='xr-dim-list'><li><span class='xr-has-index'>time</span>: 14270104</li></ul></div><ul class='xr-sections'><li class='xr-section-item'><div class='xr-array-wrap'><input id='section-da201462-c198-4045-b4bc-3c087f3f0dc2' class='xr-array-in' type='checkbox' checked><label for='section-da201462-c198-4045-b4bc-3c087f3f0dc2' title='Show/hide data repr'><svg class='icon xr-icon-database'><use xlink:href='#icon-database'></use></svg></label><div class='xr-array-preview xr-preview'><span>...</span></div><div class='xr-array-data'><pre>[14270104 values with dtype=float32]</pre></div></div></li><li class='xr-section-item'><input id='section-06a7c4ea-33e5-4cd7-b836-d4da322f5c1a' class='xr-section-summary-in' type='checkbox'  checked><label for='section-06a7c4ea-33e5-4cd7-b836-d4da322f5c1a' class='xr-section-summary' >Coordinates: <span>(1)</span></label><div class='xr-section-inline-details'></div><div class='xr-section-details'><ul class='xr-var-list'><li class='xr-var-item'><div class='xr-var-name'><span class='xr-has-index'>time</span></div><div class='xr-var-dims'>(time)</div><div class='xr-var-dtype'>datetime64[ns]</div><div class='xr-var-preview xr-preview'>2021-09-13T09:00:03.000014 ... 2...</div><input id='attrs-996dcc40-606d-4e78-85c1-caba7ba36091' class='xr-var-attrs-in' type='checkbox' disabled><label for='attrs-996dcc40-606d-4e78-85c1-caba7ba36091' title='Show/Hide attributes'><svg class='icon xr-icon-file-text2'><use xlink:href='#icon-file-text2'></use></svg></label><input id='data-ef0cf1bd-00a3-4430-b994-993037c05e9c' class='xr-var-data-in' type='checkbox'><label for='data-ef0cf1bd-00a3-4430-b994-993037c05e9c' title='Show/Hide data repr'><svg class='icon xr-icon-database'><use xlink:href='#icon-database'></use></svg></label><div class='xr-var-attrs'><dl class='xr-attrs'></dl></div><div class='xr-var-data'><pre>array([&#x27;2021-09-13T09:00:03.000014000&#x27;, &#x27;2021-09-13T09:00:03.125018000&#x27;,\n",
       "       &#x27;2021-09-13T09:00:03.250013000&#x27;, ..., &#x27;2021-10-10T13:42:09.302371000&#x27;,\n",
       "       &#x27;2021-10-10T13:42:09.427395000&#x27;, &#x27;2021-10-10T13:42:09.552410000&#x27;],\n",
       "      dtype=&#x27;datetime64[ns]&#x27;)</pre></div></li></ul></div></li><li class='xr-section-item'><input id='section-2b0cfc0d-2028-4a8f-a0d9-73fd1bdecc83' class='xr-section-summary-in' type='checkbox' disabled ><label for='section-2b0cfc0d-2028-4a8f-a0d9-73fd1bdecc83' class='xr-section-summary'  title='Expand/collapse section'>Attributes: <span>(0)</span></label><div class='xr-section-inline-details'></div><div class='xr-section-details'><dl class='xr-attrs'></dl></div></li></ul></div></div>"
      ],
      "text/plain": [
       "<xarray.DataArray 'hdg' (time: 14270104)>\n",
       "[14270104 values with dtype=float32]\n",
       "Coordinates:\n",
       "  * time     (time) datetime64[ns] 2021-09-13T09:00:03.000014 ... 2021-10-10T..."
      ]
     },
     "execution_count": 14,
     "metadata": {},
     "output_type": "execute_result"
    }
   ],
   "source": [
    "RAW.hdg"
   ]
  },
  {
   "cell_type": "code",
   "execution_count": 15,
   "metadata": {},
   "outputs": [
    {
     "data": {
      "text/plain": [
       "[<matplotlib.lines.Line2D at 0x272c48d5f08>]"
      ]
     },
     "execution_count": 15,
     "metadata": {},
     "output_type": "execute_result"
    },
    {
     "data": {
      "image/png": "[encoded data removed]",
      "text/plain": [
       "<Figure size 432x288 with 1 Axes>"
      ]
     },
     "metadata": {
      "needs_background": "light"
     },
     "output_type": "display_data"
    }
   ],
   "source": [
    "plt.plot(RAW.hdg)"
   ]
  },
  {
   "cell_type": "code",
   "execution_count": 28,
   "metadata": {},
   "outputs": [
    {
     "data": {
      "text/plain": [
       "[<matplotlib.lines.Line2D at 0x272c8324e88>]"
      ]
     },
     "execution_count": 28,
     "metadata": {},
     "output_type": "execute_result"
    },
    {
     "data": {
      "image/png": "[encoded data removed]",
      "text/plain": [
       "<Figure size 432x288 with 1 Axes>"
      ]
     },
     "metadata": {
      "needs_background": "light"
     },
     "output_type": "display_data"
    }
   ],
   "source": [
    "plt.plot(RAW.time[-8540000:-8539800],RAW.P_1[-8540000:-8539800])"
   ]
  },
  {
   "cell_type": "code",
   "execution_count": 17,
   "metadata": {},
   "outputs": [
    {
     "data": {
      "text/plain": [
       "[<matplotlib.lines.Line2D at 0x272c80b2ac8>]"
      ]
     },
     "execution_count": 17,
     "metadata": {},
     "output_type": "execute_result"
    },
    {
     "data": {
      "image/png": "[encoded data removed]",
      "text/plain": [
       "<Figure size 432x288 with 1 Axes>"
      ]
     },
     "metadata": {
      "needs_background": "light"
     },
     "output_type": "display_data"
    }
   ],
   "source": [
    "plt.plot(RAW.time[-8540000:-8539800],RAW.vel[0,-8540000:-8539800])"
   ]
  },
  {
   "cell_type": "code",
   "execution_count": 18,
   "metadata": {},
   "outputs": [
    {
     "data": {
      "text/plain": [
       "[<matplotlib.lines.Line2D at 0x272c82b7188>]"
      ]
     },
     "execution_count": 18,
     "metadata": {},
     "output_type": "execute_result"
    },
    {
     "data": {
      "image/png": "[encoded data removed]",
      "text/plain": [
       "<Figure size 432x288 with 1 Axes>"
      ]
     },
     "metadata": {
      "needs_background": "light"
     },
     "output_type": "display_data"
    }
   ],
   "source": [
    "plt.plot(RAW.time[722000:725000],RAW.Tx_1211[722000:725000])"
   ]
  },
  {
   "cell_type": "code",
   "execution_count": null,
   "metadata": {},
   "outputs": [],
   "source": []
  },
  {
   "cell_type": "code",
   "execution_count": 9,
   "metadata": {},
   "outputs": [],
   "source": [
    "import matlabtools"
   ]
  },
  {
   "cell_type": "code",
   "execution_count": 5,
   "metadata": {},
   "outputs": [
    {
     "data": {
      "text/plain": [
       "738046.3750347224"
      ]
     },
     "execution_count": 5,
     "metadata": {},
     "output_type": "execute_result"
    }
   ],
   "source": [
    "dat.mpltime[0]"
   ]
  },
  {
   "cell_type": "code",
   "execution_count": 19,
   "metadata": {},
   "outputs": [
    {
     "data": {
      "text/plain": [
       "<ADV data object>\n",
       "  . 27.20 days (started: Sep 13, 2021 09:00)\n",
       "  . beam-frame\n",
       "  . (14270104 pings @ 8.0Hz)\n",
       "  *------------\n",
       "  | mpltime                  : <time_array; (14270104,); float64>\n",
       "  | vel                      : <array; (3, 14270104); float32>\n",
       "  + config                   : + DATA GROUP\n",
       "  + env                      : + DATA GROUP\n",
       "  + orient                   : + DATA GROUP\n",
       "  + props                    : + DATA GROUP\n",
       "  + signal                   : + DATA GROUP\n",
       "  + sys                      : + DATA GROUP"
      ]
     },
     "execution_count": 19,
     "metadata": {},
     "output_type": "execute_result"
    }
   ],
   "source": [
    "dat"
   ]
  },
  {
   "cell_type": "code",
   "execution_count": 12,
   "metadata": {},
   "outputs": [],
   "source": [
    "times0 = dlfn.data.time.num2date(dat.mpltime[0])"
   ]
  },
  {
   "cell_type": "code",
   "execution_count": 13,
   "metadata": {
    "scrolled": true
   },
   "outputs": [
    {
     "data": {
      "text/plain": [
       "datetime.datetime(2021, 9, 13, 9, 0, 3, 14)"
      ]
     },
     "execution_count": 13,
     "metadata": {},
     "output_type": "execute_result"
    }
   ],
   "source": [
    "times0"
   ]
  },
  {
   "cell_type": "code",
   "execution_count": 23,
   "metadata": {},
   "outputs": [],
   "source": [
    "timeslast = matlabtools.matlab2datetime(dat.mpltime[-1], tz='utc')"
   ]
  },
  {
   "cell_type": "code",
   "execution_count": 24,
   "metadata": {},
   "outputs": [
    {
     "data": {
      "text/plain": [
       "datetime.datetime(2021, 10, 10, 13, 42, 9, 552410, tzinfo=<UTC>)"
      ]
     },
     "execution_count": 24,
     "metadata": {},
     "output_type": "execute_result"
    }
   ],
   "source": [
    "timeslast"
   ]
  },
  {
   "cell_type": "code",
   "execution_count": 25,
   "metadata": {},
   "outputs": [
    {
     "data": {
      "text/plain": [
       "dtype('float64')"
      ]
     },
     "execution_count": 25,
     "metadata": {},
     "output_type": "execute_result"
    }
   ],
   "source": [
    "dat.mpltime.dtype"
   ]
  },
  {
   "cell_type": "code",
   "execution_count": 26,
   "metadata": {},
   "outputs": [
    {
     "data": {
      "text/plain": [
       "738046.3750347224"
      ]
     },
     "execution_count": 26,
     "metadata": {},
     "output_type": "execute_result"
    }
   ],
   "source": [
    "matlabtools.datetime2matlab(times0)"
   ]
  },
  {
   "cell_type": "code",
   "execution_count": 27,
   "metadata": {},
   "outputs": [
    {
     "data": {
      "text/plain": [
       "datetime.datetime(2021, 9, 13, 9, 0, 3, 14, tzinfo=<UTC>)"
      ]
     },
     "execution_count": 27,
     "metadata": {},
     "output_type": "execute_result"
    }
   ],
   "source": [
    "matlabtools.matlab2datetime(matlabtools.datetime2matlab(times0), tz='utc')"
   ]
  },
  {
   "cell_type": "code",
   "execution_count": 17,
   "metadata": {},
   "outputs": [
    {
     "data": {
      "text/plain": [
       "377"
      ]
     },
     "execution_count": 17,
     "metadata": {},
     "output_type": "execute_result"
    }
   ],
   "source": [
    "13762727 % 65535"
   ]
  },
  {
   "cell_type": "code",
   "execution_count": 53,
   "metadata": {},
   "outputs": [
    {
     "data": {
      "text/plain": [
       "(3, 14270104)"
      ]
     },
     "execution_count": 53,
     "metadata": {},
     "output_type": "execute_result"
    }
   ],
   "source": [
    "dat.vel.shape"
   ]
  },
  {
   "cell_type": "code",
   "execution_count": 33,
   "metadata": {},
   "outputs": [],
   "source": [
    "import numpy as np"
   ]
  },
  {
   "cell_type": "code",
   "execution_count": 51,
   "metadata": {},
   "outputs": [
    {
     "ename": "SyntaxError",
     "evalue": "unexpected EOF while parsing (<ipython-input-51-ed1860f90847>, line 1)",
     "output_type": "error",
     "traceback": [
      "\u001b[1;36m  File \u001b[1;32m\"<ipython-input-51-ed1860f90847>\"\u001b[1;36m, line \u001b[1;32m1\u001b[0m\n\u001b[1;33m    rs = np.reshape(dat.vel[:,:-14270104 % 65535+1],(3,65535,217)\u001b[0m\n\u001b[1;37m                                                                 ^\u001b[0m\n\u001b[1;31mSyntaxError\u001b[0m\u001b[1;31m:\u001b[0m unexpected EOF while parsing\n"
     ]
    }
   ],
   "source": [
    "rs = np.reshape(dat.vel[:,:-14270104 % 65535+1],(3,65535,217)"
   ]
  },
  {
   "cell_type": "code",
   "execution_count": 65,
   "metadata": {},
   "outputs": [
    {
     "data": {
      "text/plain": [
       "0"
      ]
     },
     "execution_count": 65,
     "metadata": {},
     "output_type": "execute_result"
    }
   ],
   "source": [
    "14221095 % 65535"
   ]
  },
  {
   "cell_type": "code",
   "execution_count": 48,
   "metadata": {},
   "outputs": [
    {
     "data": {
      "text/plain": [
       "49010"
      ]
     },
     "execution_count": 48,
     "metadata": {},
     "output_type": "execute_result"
    }
   ],
   "source": [
    "14270104 % 65535+1"
   ]
  },
  {
   "cell_type": "code",
   "execution_count": 62,
   "metadata": {},
   "outputs": [
    {
     "data": {
      "text/plain": [
       "(3, 14221095)"
      ]
     },
     "execution_count": 62,
     "metadata": {},
     "output_type": "execute_result"
    }
   ],
   "source": [
    "dat.vel[:,:-1*(14270104 % 65535)].shape"
   ]
  },
  {
   "cell_type": "code",
   "execution_count": 142,
   "metadata": {},
   "outputs": [],
   "source": [
    "rs = np.reshape(dat.vel[:,:-1*(14270104 % 65535)].transpose(),(-1,65535,3))"
   ]
  },
  {
   "cell_type": "code",
   "execution_count": 143,
   "metadata": {},
   "outputs": [
    {
     "data": {
      "text/plain": [
       "(217, 65535, 3)"
      ]
     },
     "execution_count": 143,
     "metadata": {},
     "output_type": "execute_result"
    }
   ],
   "source": [
    "rs.shape"
   ]
  },
  {
   "cell_type": "code",
   "execution_count": 154,
   "metadata": {},
   "outputs": [
    {
     "data": {
      "text/plain": [
       "array([[ 0.93000007, -2.4550002 , -0.88400006],\n",
       "       [ 0.827     ,  0.388     , -0.448     ],\n",
       "       [-1.516     , -0.20400001, -1.3700001 ],\n",
       "       [ 0.58000004, -1.7910001 , -0.44200003],\n",
       "       [ 0.42000002,  2.6490002 , -1.2720001 ],\n",
       "       [-1.312     , -1.9860001 ,  1.049     ],\n",
       "       [-2.1200001 , -3.0240002 , -1.274     ],\n",
       "       [ 0.625     ,  2.6330001 ,  1.1620001 ],\n",
       "       [ 0.051     ,  2.2120001 ,  1.34      ],\n",
       "       [ 0.05      ,  2.233     , -2.032     ]], dtype=float32)"
      ]
     },
     "execution_count": 154,
     "metadata": {},
     "output_type": "execute_result"
    }
   ],
   "source": [
    "rs[1,:10,:]"
   ]
  },
  {
   "cell_type": "code",
   "execution_count": 158,
   "metadata": {},
   "outputs": [
    {
     "data": {
      "text/plain": [
       "array([[ 0.93000007, -2.4550002 , -0.88400006],\n",
       "       [ 0.827     ,  0.388     , -0.448     ],\n",
       "       [-1.516     , -0.20400001, -1.3700001 ],\n",
       "       [ 0.58000004, -1.7910001 , -0.44200003],\n",
       "       [ 0.42000002,  2.6490002 , -1.2720001 ],\n",
       "       [-1.312     , -1.9860001 ,  1.049     ],\n",
       "       [-2.1200001 , -3.0240002 , -1.274     ],\n",
       "       [ 0.625     ,  2.6330001 ,  1.1620001 ],\n",
       "       [ 0.051     ,  2.2120001 ,  1.34      ],\n",
       "       [ 0.05      ,  2.233     , -2.032     ]], dtype=float32)"
      ]
     },
     "execution_count": 158,
     "metadata": {},
     "output_type": "execute_result"
    }
   ],
   "source": [
    "dat.vel[:,65535:65545].transpose()"
   ]
  },
  {
   "cell_type": "code",
   "execution_count": 108,
   "metadata": {},
   "outputs": [],
   "source": [
    "a= np.arange(25).reshape(5,5)"
   ]
  },
  {
   "cell_type": "code",
   "execution_count": 109,
   "metadata": {},
   "outputs": [
    {
     "data": {
      "text/plain": [
       "(5, 5)"
      ]
     },
     "execution_count": 109,
     "metadata": {},
     "output_type": "execute_result"
    }
   ],
   "source": [
    "a.shape"
   ]
  },
  {
   "cell_type": "code",
   "execution_count": 110,
   "metadata": {},
   "outputs": [
    {
     "data": {
      "text/plain": [
       "array([[ 0,  1,  2,  3,  4],\n",
       "       [ 5,  6,  7,  8,  9],\n",
       "       [10, 11, 12, 13, 14],\n",
       "       [15, 16, 17, 18, 19],\n",
       "       [20, 21, 22, 23, 24]])"
      ]
     },
     "execution_count": 110,
     "metadata": {},
     "output_type": "execute_result"
    }
   ],
   "source": [
    "a"
   ]
  },
  {
   "cell_type": "code",
   "execution_count": 111,
   "metadata": {},
   "outputs": [
    {
     "data": {
      "text/plain": [
       "array([[ 0,  5, 10, 15, 20],\n",
       "       [ 1,  6, 11, 16, 21],\n",
       "       [ 2,  7, 12, 17, 22],\n",
       "       [ 3,  8, 13, 18, 23],\n",
       "       [ 4,  9, 14, 19, 24]])"
      ]
     },
     "execution_count": 111,
     "metadata": {},
     "output_type": "execute_result"
    }
   ],
   "source": [
    "a.transpose()"
   ]
  },
  {
   "cell_type": "code",
   "execution_count": 160,
   "metadata": {},
   "outputs": [
    {
     "data": {
      "text/plain": [
       "(3, 14270104)"
      ]
     },
     "execution_count": 160,
     "metadata": {},
     "output_type": "execute_result"
    }
   ],
   "source": [
    "RAW.vel.shape"
   ]
  },
  {
   "cell_type": "code",
   "execution_count": null,
   "metadata": {},
   "outputs": [],
   "source": []
  }
 ],
 "metadata": {
  "kernelspec": {
   "display_name": "Python 3",
   "language": "python",
   "name": "python3"
  },
  "language_info": {
   "codemirror_mode": {
    "name": "ipython",
    "version": 3
   },
   "file_extension": ".py",
   "mimetype": "text/x-python",
   "name": "python",
   "nbconvert_exporter": "python",
   "pygments_lexer": "ipython3",
   "version": "3.7.9"
  }
 },
 "nbformat": 4,
 "nbformat_minor": 4
}
